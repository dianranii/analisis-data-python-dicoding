{
 "cells": [
  {
   "cell_type": "markdown",
   "id": "c0911fcd-8c40-40dc-b76a-0f197c981c8b",
   "metadata": {},
   "source": [
    "# Proyek Analisis Data: E-Commerce Public Dataset  \n",
    "- **Nama:** Dian Maharani\n",
    "- **Email:** dianmaharani1202@gmail.com\n",
    "- **ID Dicoding:** dian_maharani_101"
   ]
  },
  {
   "cell_type": "markdown",
   "id": "f27f3715-adbc-460f-bf6a-0ddc636317e6",
   "metadata": {},
   "source": [
    "## Menentukan Pertanyaan Bisnis"
   ]
  },
  {
   "cell_type": "markdown",
   "id": "553c04ef-5062-4a70-9aa2-2beba942b64c",
   "metadata": {},
   "source": [
    "- Bagaimana performa penjualan dalam 6 bulan terakhir?\n",
    "- Bagaimana pola pembelian pelanggan dari aktivitas terbaru, konsistensi dalam berbelanja, dan nilai total yang mereka kontribusikan selama satu bulan terakhir?\n",
    "- Bagaimana 10 rating tertinggi berdasarkan kategori produk?"
   ]
  },
  {
   "cell_type": "markdown",
   "id": "34ee4f65-9637-438f-bc3d-90a21aa4cfad",
   "metadata": {},
   "source": [
    "## Import Semua Packages/Library yang Digunakan"
   ]
  },
  {
   "cell_type": "code",
   "execution_count": 117,
   "id": "d759c124-ef7f-492b-9a42-b2219ed94038",
   "metadata": {},
   "outputs": [],
   "source": [
    "import pandas as pd\n",
    "import numpy as np\n",
    "import matplotlib.pyplot as plt\n",
    "import seaborn as sns\n",
    "\n",
    "from datetime import datetime, timedelta"
   ]
  },
  {
   "cell_type": "markdown",
   "id": "e7d1c251-1e5b-4842-bb2b-590c23fa9ca3",
   "metadata": {},
   "source": [
    "## Data Wrangling"
   ]
  },
  {
   "cell_type": "markdown",
   "id": "e22f2983-a3f7-4cb7-ba10-57ae71ab007b",
   "metadata": {},
   "source": [
    "### Gathering Data"
   ]
  },
  {
   "cell_type": "code",
   "execution_count": 118,
   "id": "e9dc70d4-172d-417d-ba84-a966aa137414",
   "metadata": {
    "scrolled": true
   },
   "outputs": [
    {
     "data": {
      "text/html": [
       "<div>\n",
       "<style scoped>\n",
       "    .dataframe tbody tr th:only-of-type {\n",
       "        vertical-align: middle;\n",
       "    }\n",
       "\n",
       "    .dataframe tbody tr th {\n",
       "        vertical-align: top;\n",
       "    }\n",
       "\n",
       "    .dataframe thead th {\n",
       "        text-align: right;\n",
       "    }\n",
       "</style>\n",
       "<table border=\"1\" class=\"dataframe\">\n",
       "  <thead>\n",
       "    <tr style=\"text-align: right;\">\n",
       "      <th></th>\n",
       "      <th>customer_id</th>\n",
       "      <th>customer_unique_id</th>\n",
       "      <th>customer_zip_code_prefix</th>\n",
       "      <th>customer_city</th>\n",
       "      <th>customer_state</th>\n",
       "    </tr>\n",
       "  </thead>\n",
       "  <tbody>\n",
       "    <tr>\n",
       "      <th>0</th>\n",
       "      <td>06b8999e2fba1a1fbc88172c00ba8bc7</td>\n",
       "      <td>861eff4711a542e4b93843c6dd7febb0</td>\n",
       "      <td>14409</td>\n",
       "      <td>franca</td>\n",
       "      <td>SP</td>\n",
       "    </tr>\n",
       "    <tr>\n",
       "      <th>1</th>\n",
       "      <td>18955e83d337fd6b2def6b18a428ac77</td>\n",
       "      <td>290c77bc529b7ac935b93aa66c333dc3</td>\n",
       "      <td>9790</td>\n",
       "      <td>sao bernardo do campo</td>\n",
       "      <td>SP</td>\n",
       "    </tr>\n",
       "    <tr>\n",
       "      <th>2</th>\n",
       "      <td>4e7b3e00288586ebd08712fdd0374a03</td>\n",
       "      <td>060e732b5b29e8181a18229c7b0b2b5e</td>\n",
       "      <td>1151</td>\n",
       "      <td>sao paulo</td>\n",
       "      <td>SP</td>\n",
       "    </tr>\n",
       "    <tr>\n",
       "      <th>3</th>\n",
       "      <td>b2b6027bc5c5109e529d4dc6358b12c3</td>\n",
       "      <td>259dac757896d24d7702b9acbbff3f3c</td>\n",
       "      <td>8775</td>\n",
       "      <td>mogi das cruzes</td>\n",
       "      <td>SP</td>\n",
       "    </tr>\n",
       "    <tr>\n",
       "      <th>4</th>\n",
       "      <td>4f2d8ab171c80ec8364f7c12e35b23ad</td>\n",
       "      <td>345ecd01c38d18a9036ed96c73b8d066</td>\n",
       "      <td>13056</td>\n",
       "      <td>campinas</td>\n",
       "      <td>SP</td>\n",
       "    </tr>\n",
       "  </tbody>\n",
       "</table>\n",
       "</div>"
      ],
      "text/plain": [
       "                        customer_id                customer_unique_id  \\\n",
       "0  06b8999e2fba1a1fbc88172c00ba8bc7  861eff4711a542e4b93843c6dd7febb0   \n",
       "1  18955e83d337fd6b2def6b18a428ac77  290c77bc529b7ac935b93aa66c333dc3   \n",
       "2  4e7b3e00288586ebd08712fdd0374a03  060e732b5b29e8181a18229c7b0b2b5e   \n",
       "3  b2b6027bc5c5109e529d4dc6358b12c3  259dac757896d24d7702b9acbbff3f3c   \n",
       "4  4f2d8ab171c80ec8364f7c12e35b23ad  345ecd01c38d18a9036ed96c73b8d066   \n",
       "\n",
       "   customer_zip_code_prefix          customer_city customer_state  \n",
       "0                     14409                 franca             SP  \n",
       "1                      9790  sao bernardo do campo             SP  \n",
       "2                      1151              sao paulo             SP  \n",
       "3                      8775        mogi das cruzes             SP  \n",
       "4                     13056               campinas             SP  "
      ]
     },
     "execution_count": 118,
     "metadata": {},
     "output_type": "execute_result"
    }
   ],
   "source": [
    "customers_df = pd.read_csv(\"data/customers_dataset.csv\")\n",
    "customers_df.head()"
   ]
  },
  {
   "cell_type": "code",
   "execution_count": 119,
   "id": "508bb715-b0cb-43a6-a033-1ccf0760a3c8",
   "metadata": {},
   "outputs": [
    {
     "data": {
      "text/html": [
       "<div>\n",
       "<style scoped>\n",
       "    .dataframe tbody tr th:only-of-type {\n",
       "        vertical-align: middle;\n",
       "    }\n",
       "\n",
       "    .dataframe tbody tr th {\n",
       "        vertical-align: top;\n",
       "    }\n",
       "\n",
       "    .dataframe thead th {\n",
       "        text-align: right;\n",
       "    }\n",
       "</style>\n",
       "<table border=\"1\" class=\"dataframe\">\n",
       "  <thead>\n",
       "    <tr style=\"text-align: right;\">\n",
       "      <th></th>\n",
       "      <th>seller_id</th>\n",
       "      <th>seller_zip_code_prefix</th>\n",
       "      <th>seller_city</th>\n",
       "      <th>seller_state</th>\n",
       "    </tr>\n",
       "  </thead>\n",
       "  <tbody>\n",
       "    <tr>\n",
       "      <th>0</th>\n",
       "      <td>3442f8959a84dea7ee197c632cb2df15</td>\n",
       "      <td>13023</td>\n",
       "      <td>campinas</td>\n",
       "      <td>SP</td>\n",
       "    </tr>\n",
       "    <tr>\n",
       "      <th>1</th>\n",
       "      <td>d1b65fc7debc3361ea86b5f14c68d2e2</td>\n",
       "      <td>13844</td>\n",
       "      <td>mogi guacu</td>\n",
       "      <td>SP</td>\n",
       "    </tr>\n",
       "    <tr>\n",
       "      <th>2</th>\n",
       "      <td>ce3ad9de960102d0677a81f5d0bb7b2d</td>\n",
       "      <td>20031</td>\n",
       "      <td>rio de janeiro</td>\n",
       "      <td>RJ</td>\n",
       "    </tr>\n",
       "    <tr>\n",
       "      <th>3</th>\n",
       "      <td>c0f3eea2e14555b6faeea3dd58c1b1c3</td>\n",
       "      <td>4195</td>\n",
       "      <td>sao paulo</td>\n",
       "      <td>SP</td>\n",
       "    </tr>\n",
       "    <tr>\n",
       "      <th>4</th>\n",
       "      <td>51a04a8a6bdcb23deccc82b0b80742cf</td>\n",
       "      <td>12914</td>\n",
       "      <td>braganca paulista</td>\n",
       "      <td>SP</td>\n",
       "    </tr>\n",
       "  </tbody>\n",
       "</table>\n",
       "</div>"
      ],
      "text/plain": [
       "                          seller_id  seller_zip_code_prefix  \\\n",
       "0  3442f8959a84dea7ee197c632cb2df15                   13023   \n",
       "1  d1b65fc7debc3361ea86b5f14c68d2e2                   13844   \n",
       "2  ce3ad9de960102d0677a81f5d0bb7b2d                   20031   \n",
       "3  c0f3eea2e14555b6faeea3dd58c1b1c3                    4195   \n",
       "4  51a04a8a6bdcb23deccc82b0b80742cf                   12914   \n",
       "\n",
       "         seller_city seller_state  \n",
       "0           campinas           SP  \n",
       "1         mogi guacu           SP  \n",
       "2     rio de janeiro           RJ  \n",
       "3          sao paulo           SP  \n",
       "4  braganca paulista           SP  "
      ]
     },
     "execution_count": 119,
     "metadata": {},
     "output_type": "execute_result"
    }
   ],
   "source": [
    "sellers_df = pd.read_csv(\"data/sellers_dataset.csv\")\n",
    "sellers_df.head()"
   ]
  },
  {
   "cell_type": "code",
   "execution_count": 120,
   "id": "ace77987-1b2b-4ef4-9316-a397fbc8ac33",
   "metadata": {},
   "outputs": [
    {
     "data": {
      "text/html": [
       "<div>\n",
       "<style scoped>\n",
       "    .dataframe tbody tr th:only-of-type {\n",
       "        vertical-align: middle;\n",
       "    }\n",
       "\n",
       "    .dataframe tbody tr th {\n",
       "        vertical-align: top;\n",
       "    }\n",
       "\n",
       "    .dataframe thead th {\n",
       "        text-align: right;\n",
       "    }\n",
       "</style>\n",
       "<table border=\"1\" class=\"dataframe\">\n",
       "  <thead>\n",
       "    <tr style=\"text-align: right;\">\n",
       "      <th></th>\n",
       "      <th>order_id</th>\n",
       "      <th>customer_id</th>\n",
       "      <th>order_status</th>\n",
       "      <th>order_purchase_timestamp</th>\n",
       "      <th>order_approved_at</th>\n",
       "      <th>order_delivered_carrier_date</th>\n",
       "      <th>order_delivered_customer_date</th>\n",
       "      <th>order_estimated_delivery_date</th>\n",
       "    </tr>\n",
       "  </thead>\n",
       "  <tbody>\n",
       "    <tr>\n",
       "      <th>0</th>\n",
       "      <td>e481f51cbdc54678b7cc49136f2d6af7</td>\n",
       "      <td>9ef432eb6251297304e76186b10a928d</td>\n",
       "      <td>delivered</td>\n",
       "      <td>2017-10-02 10:56:33</td>\n",
       "      <td>2017-10-02 11:07:15</td>\n",
       "      <td>2017-10-04 19:55:00</td>\n",
       "      <td>2017-10-10 21:25:13</td>\n",
       "      <td>2017-10-18 00:00:00</td>\n",
       "    </tr>\n",
       "    <tr>\n",
       "      <th>1</th>\n",
       "      <td>53cdb2fc8bc7dce0b6741e2150273451</td>\n",
       "      <td>b0830fb4747a6c6d20dea0b8c802d7ef</td>\n",
       "      <td>delivered</td>\n",
       "      <td>2018-07-24 20:41:37</td>\n",
       "      <td>2018-07-26 03:24:27</td>\n",
       "      <td>2018-07-26 14:31:00</td>\n",
       "      <td>2018-08-07 15:27:45</td>\n",
       "      <td>2018-08-13 00:00:00</td>\n",
       "    </tr>\n",
       "    <tr>\n",
       "      <th>2</th>\n",
       "      <td>47770eb9100c2d0c44946d9cf07ec65d</td>\n",
       "      <td>41ce2a54c0b03bf3443c3d931a367089</td>\n",
       "      <td>delivered</td>\n",
       "      <td>2018-08-08 08:38:49</td>\n",
       "      <td>2018-08-08 08:55:23</td>\n",
       "      <td>2018-08-08 13:50:00</td>\n",
       "      <td>2018-08-17 18:06:29</td>\n",
       "      <td>2018-09-04 00:00:00</td>\n",
       "    </tr>\n",
       "    <tr>\n",
       "      <th>3</th>\n",
       "      <td>949d5b44dbf5de918fe9c16f97b45f8a</td>\n",
       "      <td>f88197465ea7920adcdbec7375364d82</td>\n",
       "      <td>delivered</td>\n",
       "      <td>2017-11-18 19:28:06</td>\n",
       "      <td>2017-11-18 19:45:59</td>\n",
       "      <td>2017-11-22 13:39:59</td>\n",
       "      <td>2017-12-02 00:28:42</td>\n",
       "      <td>2017-12-15 00:00:00</td>\n",
       "    </tr>\n",
       "    <tr>\n",
       "      <th>4</th>\n",
       "      <td>ad21c59c0840e6cb83a9ceb5573f8159</td>\n",
       "      <td>8ab97904e6daea8866dbdbc4fb7aad2c</td>\n",
       "      <td>delivered</td>\n",
       "      <td>2018-02-13 21:18:39</td>\n",
       "      <td>2018-02-13 22:20:29</td>\n",
       "      <td>2018-02-14 19:46:34</td>\n",
       "      <td>2018-02-16 18:17:02</td>\n",
       "      <td>2018-02-26 00:00:00</td>\n",
       "    </tr>\n",
       "  </tbody>\n",
       "</table>\n",
       "</div>"
      ],
      "text/plain": [
       "                           order_id                       customer_id  \\\n",
       "0  e481f51cbdc54678b7cc49136f2d6af7  9ef432eb6251297304e76186b10a928d   \n",
       "1  53cdb2fc8bc7dce0b6741e2150273451  b0830fb4747a6c6d20dea0b8c802d7ef   \n",
       "2  47770eb9100c2d0c44946d9cf07ec65d  41ce2a54c0b03bf3443c3d931a367089   \n",
       "3  949d5b44dbf5de918fe9c16f97b45f8a  f88197465ea7920adcdbec7375364d82   \n",
       "4  ad21c59c0840e6cb83a9ceb5573f8159  8ab97904e6daea8866dbdbc4fb7aad2c   \n",
       "\n",
       "  order_status order_purchase_timestamp    order_approved_at  \\\n",
       "0    delivered      2017-10-02 10:56:33  2017-10-02 11:07:15   \n",
       "1    delivered      2018-07-24 20:41:37  2018-07-26 03:24:27   \n",
       "2    delivered      2018-08-08 08:38:49  2018-08-08 08:55:23   \n",
       "3    delivered      2017-11-18 19:28:06  2017-11-18 19:45:59   \n",
       "4    delivered      2018-02-13 21:18:39  2018-02-13 22:20:29   \n",
       "\n",
       "  order_delivered_carrier_date order_delivered_customer_date  \\\n",
       "0          2017-10-04 19:55:00           2017-10-10 21:25:13   \n",
       "1          2018-07-26 14:31:00           2018-08-07 15:27:45   \n",
       "2          2018-08-08 13:50:00           2018-08-17 18:06:29   \n",
       "3          2017-11-22 13:39:59           2017-12-02 00:28:42   \n",
       "4          2018-02-14 19:46:34           2018-02-16 18:17:02   \n",
       "\n",
       "  order_estimated_delivery_date  \n",
       "0           2017-10-18 00:00:00  \n",
       "1           2018-08-13 00:00:00  \n",
       "2           2018-09-04 00:00:00  \n",
       "3           2017-12-15 00:00:00  \n",
       "4           2018-02-26 00:00:00  "
      ]
     },
     "execution_count": 120,
     "metadata": {},
     "output_type": "execute_result"
    }
   ],
   "source": [
    "orders_df = pd.read_csv(\"data/orders_dataset.csv\")\n",
    "orders_df.head()"
   ]
  },
  {
   "cell_type": "code",
   "execution_count": 121,
   "id": "f22819fc-15bc-485d-b251-6edad1d86292",
   "metadata": {},
   "outputs": [
    {
     "data": {
      "text/html": [
       "<div>\n",
       "<style scoped>\n",
       "    .dataframe tbody tr th:only-of-type {\n",
       "        vertical-align: middle;\n",
       "    }\n",
       "\n",
       "    .dataframe tbody tr th {\n",
       "        vertical-align: top;\n",
       "    }\n",
       "\n",
       "    .dataframe thead th {\n",
       "        text-align: right;\n",
       "    }\n",
       "</style>\n",
       "<table border=\"1\" class=\"dataframe\">\n",
       "  <thead>\n",
       "    <tr style=\"text-align: right;\">\n",
       "      <th></th>\n",
       "      <th>review_id</th>\n",
       "      <th>order_id</th>\n",
       "      <th>review_score</th>\n",
       "      <th>review_comment_title</th>\n",
       "      <th>review_comment_message</th>\n",
       "      <th>review_creation_date</th>\n",
       "      <th>review_answer_timestamp</th>\n",
       "    </tr>\n",
       "  </thead>\n",
       "  <tbody>\n",
       "    <tr>\n",
       "      <th>0</th>\n",
       "      <td>7bc2406110b926393aa56f80a40eba40</td>\n",
       "      <td>73fc7af87114b39712e6da79b0a377eb</td>\n",
       "      <td>4</td>\n",
       "      <td>NaN</td>\n",
       "      <td>NaN</td>\n",
       "      <td>2018-01-18 00:00:00</td>\n",
       "      <td>2018-01-18 21:46:59</td>\n",
       "    </tr>\n",
       "    <tr>\n",
       "      <th>1</th>\n",
       "      <td>80e641a11e56f04c1ad469d5645fdfde</td>\n",
       "      <td>a548910a1c6147796b98fdf73dbeba33</td>\n",
       "      <td>5</td>\n",
       "      <td>NaN</td>\n",
       "      <td>NaN</td>\n",
       "      <td>2018-03-10 00:00:00</td>\n",
       "      <td>2018-03-11 03:05:13</td>\n",
       "    </tr>\n",
       "    <tr>\n",
       "      <th>2</th>\n",
       "      <td>228ce5500dc1d8e020d8d1322874b6f0</td>\n",
       "      <td>f9e4b658b201a9f2ecdecbb34bed034b</td>\n",
       "      <td>5</td>\n",
       "      <td>NaN</td>\n",
       "      <td>NaN</td>\n",
       "      <td>2018-02-17 00:00:00</td>\n",
       "      <td>2018-02-18 14:36:24</td>\n",
       "    </tr>\n",
       "    <tr>\n",
       "      <th>3</th>\n",
       "      <td>e64fb393e7b32834bb789ff8bb30750e</td>\n",
       "      <td>658677c97b385a9be170737859d3511b</td>\n",
       "      <td>5</td>\n",
       "      <td>NaN</td>\n",
       "      <td>Recebi bem antes do prazo estipulado.</td>\n",
       "      <td>2017-04-21 00:00:00</td>\n",
       "      <td>2017-04-21 22:02:06</td>\n",
       "    </tr>\n",
       "    <tr>\n",
       "      <th>4</th>\n",
       "      <td>f7c4243c7fe1938f181bec41a392bdeb</td>\n",
       "      <td>8e6bfb81e283fa7e4f11123a3fb894f1</td>\n",
       "      <td>5</td>\n",
       "      <td>NaN</td>\n",
       "      <td>Parabéns lojas lannister adorei comprar pela I...</td>\n",
       "      <td>2018-03-01 00:00:00</td>\n",
       "      <td>2018-03-02 10:26:53</td>\n",
       "    </tr>\n",
       "  </tbody>\n",
       "</table>\n",
       "</div>"
      ],
      "text/plain": [
       "                          review_id                          order_id  \\\n",
       "0  7bc2406110b926393aa56f80a40eba40  73fc7af87114b39712e6da79b0a377eb   \n",
       "1  80e641a11e56f04c1ad469d5645fdfde  a548910a1c6147796b98fdf73dbeba33   \n",
       "2  228ce5500dc1d8e020d8d1322874b6f0  f9e4b658b201a9f2ecdecbb34bed034b   \n",
       "3  e64fb393e7b32834bb789ff8bb30750e  658677c97b385a9be170737859d3511b   \n",
       "4  f7c4243c7fe1938f181bec41a392bdeb  8e6bfb81e283fa7e4f11123a3fb894f1   \n",
       "\n",
       "   review_score review_comment_title  \\\n",
       "0             4                  NaN   \n",
       "1             5                  NaN   \n",
       "2             5                  NaN   \n",
       "3             5                  NaN   \n",
       "4             5                  NaN   \n",
       "\n",
       "                              review_comment_message review_creation_date  \\\n",
       "0                                                NaN  2018-01-18 00:00:00   \n",
       "1                                                NaN  2018-03-10 00:00:00   \n",
       "2                                                NaN  2018-02-17 00:00:00   \n",
       "3              Recebi bem antes do prazo estipulado.  2017-04-21 00:00:00   \n",
       "4  Parabéns lojas lannister adorei comprar pela I...  2018-03-01 00:00:00   \n",
       "\n",
       "  review_answer_timestamp  \n",
       "0     2018-01-18 21:46:59  \n",
       "1     2018-03-11 03:05:13  \n",
       "2     2018-02-18 14:36:24  \n",
       "3     2017-04-21 22:02:06  \n",
       "4     2018-03-02 10:26:53  "
      ]
     },
     "execution_count": 121,
     "metadata": {},
     "output_type": "execute_result"
    }
   ],
   "source": [
    "order_reviews_df = pd.read_csv(\"data/order_reviews_dataset.csv\")\n",
    "order_reviews_df.head()"
   ]
  },
  {
   "cell_type": "code",
   "execution_count": 122,
   "id": "b21d424b-6c9c-4bd0-91e9-facf73c6aef8",
   "metadata": {},
   "outputs": [
    {
     "data": {
      "text/html": [
       "<div>\n",
       "<style scoped>\n",
       "    .dataframe tbody tr th:only-of-type {\n",
       "        vertical-align: middle;\n",
       "    }\n",
       "\n",
       "    .dataframe tbody tr th {\n",
       "        vertical-align: top;\n",
       "    }\n",
       "\n",
       "    .dataframe thead th {\n",
       "        text-align: right;\n",
       "    }\n",
       "</style>\n",
       "<table border=\"1\" class=\"dataframe\">\n",
       "  <thead>\n",
       "    <tr style=\"text-align: right;\">\n",
       "      <th></th>\n",
       "      <th>order_id</th>\n",
       "      <th>order_item_id</th>\n",
       "      <th>product_id</th>\n",
       "      <th>seller_id</th>\n",
       "      <th>shipping_limit_date</th>\n",
       "      <th>price</th>\n",
       "      <th>freight_value</th>\n",
       "    </tr>\n",
       "  </thead>\n",
       "  <tbody>\n",
       "    <tr>\n",
       "      <th>0</th>\n",
       "      <td>00010242fe8c5a6d1ba2dd792cb16214</td>\n",
       "      <td>1</td>\n",
       "      <td>4244733e06e7ecb4970a6e2683c13e61</td>\n",
       "      <td>48436dade18ac8b2bce089ec2a041202</td>\n",
       "      <td>2017-09-19 09:45:35</td>\n",
       "      <td>58.90</td>\n",
       "      <td>13.29</td>\n",
       "    </tr>\n",
       "    <tr>\n",
       "      <th>1</th>\n",
       "      <td>00018f77f2f0320c557190d7a144bdd3</td>\n",
       "      <td>1</td>\n",
       "      <td>e5f2d52b802189ee658865ca93d83a8f</td>\n",
       "      <td>dd7ddc04e1b6c2c614352b383efe2d36</td>\n",
       "      <td>2017-05-03 11:05:13</td>\n",
       "      <td>239.90</td>\n",
       "      <td>19.93</td>\n",
       "    </tr>\n",
       "    <tr>\n",
       "      <th>2</th>\n",
       "      <td>000229ec398224ef6ca0657da4fc703e</td>\n",
       "      <td>1</td>\n",
       "      <td>c777355d18b72b67abbeef9df44fd0fd</td>\n",
       "      <td>5b51032eddd242adc84c38acab88f23d</td>\n",
       "      <td>2018-01-18 14:48:30</td>\n",
       "      <td>199.00</td>\n",
       "      <td>17.87</td>\n",
       "    </tr>\n",
       "    <tr>\n",
       "      <th>3</th>\n",
       "      <td>00024acbcdf0a6daa1e931b038114c75</td>\n",
       "      <td>1</td>\n",
       "      <td>7634da152a4610f1595efa32f14722fc</td>\n",
       "      <td>9d7a1d34a5052409006425275ba1c2b4</td>\n",
       "      <td>2018-08-15 10:10:18</td>\n",
       "      <td>12.99</td>\n",
       "      <td>12.79</td>\n",
       "    </tr>\n",
       "    <tr>\n",
       "      <th>4</th>\n",
       "      <td>00042b26cf59d7ce69dfabb4e55b4fd9</td>\n",
       "      <td>1</td>\n",
       "      <td>ac6c3623068f30de03045865e4e10089</td>\n",
       "      <td>df560393f3a51e74553ab94004ba5c87</td>\n",
       "      <td>2017-02-13 13:57:51</td>\n",
       "      <td>199.90</td>\n",
       "      <td>18.14</td>\n",
       "    </tr>\n",
       "  </tbody>\n",
       "</table>\n",
       "</div>"
      ],
      "text/plain": [
       "                           order_id  order_item_id  \\\n",
       "0  00010242fe8c5a6d1ba2dd792cb16214              1   \n",
       "1  00018f77f2f0320c557190d7a144bdd3              1   \n",
       "2  000229ec398224ef6ca0657da4fc703e              1   \n",
       "3  00024acbcdf0a6daa1e931b038114c75              1   \n",
       "4  00042b26cf59d7ce69dfabb4e55b4fd9              1   \n",
       "\n",
       "                         product_id                         seller_id  \\\n",
       "0  4244733e06e7ecb4970a6e2683c13e61  48436dade18ac8b2bce089ec2a041202   \n",
       "1  e5f2d52b802189ee658865ca93d83a8f  dd7ddc04e1b6c2c614352b383efe2d36   \n",
       "2  c777355d18b72b67abbeef9df44fd0fd  5b51032eddd242adc84c38acab88f23d   \n",
       "3  7634da152a4610f1595efa32f14722fc  9d7a1d34a5052409006425275ba1c2b4   \n",
       "4  ac6c3623068f30de03045865e4e10089  df560393f3a51e74553ab94004ba5c87   \n",
       "\n",
       "   shipping_limit_date   price  freight_value  \n",
       "0  2017-09-19 09:45:35   58.90          13.29  \n",
       "1  2017-05-03 11:05:13  239.90          19.93  \n",
       "2  2018-01-18 14:48:30  199.00          17.87  \n",
       "3  2018-08-15 10:10:18   12.99          12.79  \n",
       "4  2017-02-13 13:57:51  199.90          18.14  "
      ]
     },
     "execution_count": 122,
     "metadata": {},
     "output_type": "execute_result"
    }
   ],
   "source": [
    "order_items_df = pd.read_csv(\"data/order_items_dataset.csv\")\n",
    "order_items_df.head()"
   ]
  },
  {
   "cell_type": "code",
   "execution_count": 123,
   "id": "745222d7-a3fe-4380-9c66-2089aebc101c",
   "metadata": {},
   "outputs": [
    {
     "data": {
      "text/html": [
       "<div>\n",
       "<style scoped>\n",
       "    .dataframe tbody tr th:only-of-type {\n",
       "        vertical-align: middle;\n",
       "    }\n",
       "\n",
       "    .dataframe tbody tr th {\n",
       "        vertical-align: top;\n",
       "    }\n",
       "\n",
       "    .dataframe thead th {\n",
       "        text-align: right;\n",
       "    }\n",
       "</style>\n",
       "<table border=\"1\" class=\"dataframe\">\n",
       "  <thead>\n",
       "    <tr style=\"text-align: right;\">\n",
       "      <th></th>\n",
       "      <th>order_id</th>\n",
       "      <th>payment_sequential</th>\n",
       "      <th>payment_type</th>\n",
       "      <th>payment_installments</th>\n",
       "      <th>payment_value</th>\n",
       "    </tr>\n",
       "  </thead>\n",
       "  <tbody>\n",
       "    <tr>\n",
       "      <th>0</th>\n",
       "      <td>b81ef226f3fe1789b1e8b2acac839d17</td>\n",
       "      <td>1</td>\n",
       "      <td>credit_card</td>\n",
       "      <td>8</td>\n",
       "      <td>99.33</td>\n",
       "    </tr>\n",
       "    <tr>\n",
       "      <th>1</th>\n",
       "      <td>a9810da82917af2d9aefd1278f1dcfa0</td>\n",
       "      <td>1</td>\n",
       "      <td>credit_card</td>\n",
       "      <td>1</td>\n",
       "      <td>24.39</td>\n",
       "    </tr>\n",
       "    <tr>\n",
       "      <th>2</th>\n",
       "      <td>25e8ea4e93396b6fa0d3dd708e76c1bd</td>\n",
       "      <td>1</td>\n",
       "      <td>credit_card</td>\n",
       "      <td>1</td>\n",
       "      <td>65.71</td>\n",
       "    </tr>\n",
       "    <tr>\n",
       "      <th>3</th>\n",
       "      <td>ba78997921bbcdc1373bb41e913ab953</td>\n",
       "      <td>1</td>\n",
       "      <td>credit_card</td>\n",
       "      <td>8</td>\n",
       "      <td>107.78</td>\n",
       "    </tr>\n",
       "    <tr>\n",
       "      <th>4</th>\n",
       "      <td>42fdf880ba16b47b59251dd489d4441a</td>\n",
       "      <td>1</td>\n",
       "      <td>credit_card</td>\n",
       "      <td>2</td>\n",
       "      <td>128.45</td>\n",
       "    </tr>\n",
       "  </tbody>\n",
       "</table>\n",
       "</div>"
      ],
      "text/plain": [
       "                           order_id  payment_sequential payment_type  \\\n",
       "0  b81ef226f3fe1789b1e8b2acac839d17                   1  credit_card   \n",
       "1  a9810da82917af2d9aefd1278f1dcfa0                   1  credit_card   \n",
       "2  25e8ea4e93396b6fa0d3dd708e76c1bd                   1  credit_card   \n",
       "3  ba78997921bbcdc1373bb41e913ab953                   1  credit_card   \n",
       "4  42fdf880ba16b47b59251dd489d4441a                   1  credit_card   \n",
       "\n",
       "   payment_installments  payment_value  \n",
       "0                     8          99.33  \n",
       "1                     1          24.39  \n",
       "2                     1          65.71  \n",
       "3                     8         107.78  \n",
       "4                     2         128.45  "
      ]
     },
     "execution_count": 123,
     "metadata": {},
     "output_type": "execute_result"
    }
   ],
   "source": [
    "order_payments_df = pd.read_csv(\"data/order_payments_dataset.csv\")\n",
    "order_payments_df.head()"
   ]
  },
  {
   "cell_type": "code",
   "execution_count": 124,
   "id": "4bb489e3-0683-4fb3-b51f-1a9d2d40c788",
   "metadata": {},
   "outputs": [
    {
     "data": {
      "text/html": [
       "<div>\n",
       "<style scoped>\n",
       "    .dataframe tbody tr th:only-of-type {\n",
       "        vertical-align: middle;\n",
       "    }\n",
       "\n",
       "    .dataframe tbody tr th {\n",
       "        vertical-align: top;\n",
       "    }\n",
       "\n",
       "    .dataframe thead th {\n",
       "        text-align: right;\n",
       "    }\n",
       "</style>\n",
       "<table border=\"1\" class=\"dataframe\">\n",
       "  <thead>\n",
       "    <tr style=\"text-align: right;\">\n",
       "      <th></th>\n",
       "      <th>product_id</th>\n",
       "      <th>product_category_name</th>\n",
       "      <th>product_name_lenght</th>\n",
       "      <th>product_description_lenght</th>\n",
       "      <th>product_photos_qty</th>\n",
       "      <th>product_weight_g</th>\n",
       "      <th>product_length_cm</th>\n",
       "      <th>product_height_cm</th>\n",
       "      <th>product_width_cm</th>\n",
       "    </tr>\n",
       "  </thead>\n",
       "  <tbody>\n",
       "    <tr>\n",
       "      <th>0</th>\n",
       "      <td>1e9e8ef04dbcff4541ed26657ea517e5</td>\n",
       "      <td>perfumaria</td>\n",
       "      <td>40.0</td>\n",
       "      <td>287.0</td>\n",
       "      <td>1.0</td>\n",
       "      <td>225.0</td>\n",
       "      <td>16.0</td>\n",
       "      <td>10.0</td>\n",
       "      <td>14.0</td>\n",
       "    </tr>\n",
       "    <tr>\n",
       "      <th>1</th>\n",
       "      <td>3aa071139cb16b67ca9e5dea641aaa2f</td>\n",
       "      <td>artes</td>\n",
       "      <td>44.0</td>\n",
       "      <td>276.0</td>\n",
       "      <td>1.0</td>\n",
       "      <td>1000.0</td>\n",
       "      <td>30.0</td>\n",
       "      <td>18.0</td>\n",
       "      <td>20.0</td>\n",
       "    </tr>\n",
       "    <tr>\n",
       "      <th>2</th>\n",
       "      <td>96bd76ec8810374ed1b65e291975717f</td>\n",
       "      <td>esporte_lazer</td>\n",
       "      <td>46.0</td>\n",
       "      <td>250.0</td>\n",
       "      <td>1.0</td>\n",
       "      <td>154.0</td>\n",
       "      <td>18.0</td>\n",
       "      <td>9.0</td>\n",
       "      <td>15.0</td>\n",
       "    </tr>\n",
       "    <tr>\n",
       "      <th>3</th>\n",
       "      <td>cef67bcfe19066a932b7673e239eb23d</td>\n",
       "      <td>bebes</td>\n",
       "      <td>27.0</td>\n",
       "      <td>261.0</td>\n",
       "      <td>1.0</td>\n",
       "      <td>371.0</td>\n",
       "      <td>26.0</td>\n",
       "      <td>4.0</td>\n",
       "      <td>26.0</td>\n",
       "    </tr>\n",
       "    <tr>\n",
       "      <th>4</th>\n",
       "      <td>9dc1a7de274444849c219cff195d0b71</td>\n",
       "      <td>utilidades_domesticas</td>\n",
       "      <td>37.0</td>\n",
       "      <td>402.0</td>\n",
       "      <td>4.0</td>\n",
       "      <td>625.0</td>\n",
       "      <td>20.0</td>\n",
       "      <td>17.0</td>\n",
       "      <td>13.0</td>\n",
       "    </tr>\n",
       "  </tbody>\n",
       "</table>\n",
       "</div>"
      ],
      "text/plain": [
       "                         product_id  product_category_name  \\\n",
       "0  1e9e8ef04dbcff4541ed26657ea517e5             perfumaria   \n",
       "1  3aa071139cb16b67ca9e5dea641aaa2f                  artes   \n",
       "2  96bd76ec8810374ed1b65e291975717f          esporte_lazer   \n",
       "3  cef67bcfe19066a932b7673e239eb23d                  bebes   \n",
       "4  9dc1a7de274444849c219cff195d0b71  utilidades_domesticas   \n",
       "\n",
       "   product_name_lenght  product_description_lenght  product_photos_qty  \\\n",
       "0                 40.0                       287.0                 1.0   \n",
       "1                 44.0                       276.0                 1.0   \n",
       "2                 46.0                       250.0                 1.0   \n",
       "3                 27.0                       261.0                 1.0   \n",
       "4                 37.0                       402.0                 4.0   \n",
       "\n",
       "   product_weight_g  product_length_cm  product_height_cm  product_width_cm  \n",
       "0             225.0               16.0               10.0              14.0  \n",
       "1            1000.0               30.0               18.0              20.0  \n",
       "2             154.0               18.0                9.0              15.0  \n",
       "3             371.0               26.0                4.0              26.0  \n",
       "4             625.0               20.0               17.0              13.0  "
      ]
     },
     "execution_count": 124,
     "metadata": {},
     "output_type": "execute_result"
    }
   ],
   "source": [
    "products_df = pd.read_csv(\"data/products_dataset.csv\")\n",
    "products_df.head()"
   ]
  },
  {
   "cell_type": "code",
   "execution_count": 125,
   "id": "63967315-35fc-4b36-ae0a-987be42ce091",
   "metadata": {},
   "outputs": [
    {
     "data": {
      "text/html": [
       "<div>\n",
       "<style scoped>\n",
       "    .dataframe tbody tr th:only-of-type {\n",
       "        vertical-align: middle;\n",
       "    }\n",
       "\n",
       "    .dataframe tbody tr th {\n",
       "        vertical-align: top;\n",
       "    }\n",
       "\n",
       "    .dataframe thead th {\n",
       "        text-align: right;\n",
       "    }\n",
       "</style>\n",
       "<table border=\"1\" class=\"dataframe\">\n",
       "  <thead>\n",
       "    <tr style=\"text-align: right;\">\n",
       "      <th></th>\n",
       "      <th>product_category_name</th>\n",
       "      <th>product_category_name_english</th>\n",
       "    </tr>\n",
       "  </thead>\n",
       "  <tbody>\n",
       "    <tr>\n",
       "      <th>0</th>\n",
       "      <td>beleza_saude</td>\n",
       "      <td>health_beauty</td>\n",
       "    </tr>\n",
       "    <tr>\n",
       "      <th>1</th>\n",
       "      <td>informatica_acessorios</td>\n",
       "      <td>computers_accessories</td>\n",
       "    </tr>\n",
       "    <tr>\n",
       "      <th>2</th>\n",
       "      <td>automotivo</td>\n",
       "      <td>auto</td>\n",
       "    </tr>\n",
       "    <tr>\n",
       "      <th>3</th>\n",
       "      <td>cama_mesa_banho</td>\n",
       "      <td>bed_bath_table</td>\n",
       "    </tr>\n",
       "    <tr>\n",
       "      <th>4</th>\n",
       "      <td>moveis_decoracao</td>\n",
       "      <td>furniture_decor</td>\n",
       "    </tr>\n",
       "  </tbody>\n",
       "</table>\n",
       "</div>"
      ],
      "text/plain": [
       "    product_category_name product_category_name_english\n",
       "0            beleza_saude                 health_beauty\n",
       "1  informatica_acessorios         computers_accessories\n",
       "2              automotivo                          auto\n",
       "3         cama_mesa_banho                bed_bath_table\n",
       "4        moveis_decoracao               furniture_decor"
      ]
     },
     "execution_count": 125,
     "metadata": {},
     "output_type": "execute_result"
    }
   ],
   "source": [
    "products_category_df = pd.read_csv(\"data/product_category_name_translation.csv\")\n",
    "products_category_df.head()"
   ]
  },
  {
   "cell_type": "code",
   "execution_count": 126,
   "id": "96196e2d-4cb0-4051-9c73-ceaab87764b8",
   "metadata": {},
   "outputs": [
    {
     "data": {
      "text/html": [
       "<div>\n",
       "<style scoped>\n",
       "    .dataframe tbody tr th:only-of-type {\n",
       "        vertical-align: middle;\n",
       "    }\n",
       "\n",
       "    .dataframe tbody tr th {\n",
       "        vertical-align: top;\n",
       "    }\n",
       "\n",
       "    .dataframe thead th {\n",
       "        text-align: right;\n",
       "    }\n",
       "</style>\n",
       "<table border=\"1\" class=\"dataframe\">\n",
       "  <thead>\n",
       "    <tr style=\"text-align: right;\">\n",
       "      <th></th>\n",
       "      <th>geolocation_zip_code_prefix</th>\n",
       "      <th>geolocation_lat</th>\n",
       "      <th>geolocation_lng</th>\n",
       "      <th>geolocation_city</th>\n",
       "      <th>geolocation_state</th>\n",
       "    </tr>\n",
       "  </thead>\n",
       "  <tbody>\n",
       "    <tr>\n",
       "      <th>0</th>\n",
       "      <td>1037</td>\n",
       "      <td>-23.545621</td>\n",
       "      <td>-46.639292</td>\n",
       "      <td>sao paulo</td>\n",
       "      <td>SP</td>\n",
       "    </tr>\n",
       "    <tr>\n",
       "      <th>1</th>\n",
       "      <td>1046</td>\n",
       "      <td>-23.546081</td>\n",
       "      <td>-46.644820</td>\n",
       "      <td>sao paulo</td>\n",
       "      <td>SP</td>\n",
       "    </tr>\n",
       "    <tr>\n",
       "      <th>2</th>\n",
       "      <td>1046</td>\n",
       "      <td>-23.546129</td>\n",
       "      <td>-46.642951</td>\n",
       "      <td>sao paulo</td>\n",
       "      <td>SP</td>\n",
       "    </tr>\n",
       "    <tr>\n",
       "      <th>3</th>\n",
       "      <td>1041</td>\n",
       "      <td>-23.544392</td>\n",
       "      <td>-46.639499</td>\n",
       "      <td>sao paulo</td>\n",
       "      <td>SP</td>\n",
       "    </tr>\n",
       "    <tr>\n",
       "      <th>4</th>\n",
       "      <td>1035</td>\n",
       "      <td>-23.541578</td>\n",
       "      <td>-46.641607</td>\n",
       "      <td>sao paulo</td>\n",
       "      <td>SP</td>\n",
       "    </tr>\n",
       "  </tbody>\n",
       "</table>\n",
       "</div>"
      ],
      "text/plain": [
       "   geolocation_zip_code_prefix  geolocation_lat  geolocation_lng  \\\n",
       "0                         1037       -23.545621       -46.639292   \n",
       "1                         1046       -23.546081       -46.644820   \n",
       "2                         1046       -23.546129       -46.642951   \n",
       "3                         1041       -23.544392       -46.639499   \n",
       "4                         1035       -23.541578       -46.641607   \n",
       "\n",
       "  geolocation_city geolocation_state  \n",
       "0        sao paulo                SP  \n",
       "1        sao paulo                SP  \n",
       "2        sao paulo                SP  \n",
       "3        sao paulo                SP  \n",
       "4        sao paulo                SP  "
      ]
     },
     "execution_count": 126,
     "metadata": {},
     "output_type": "execute_result"
    }
   ],
   "source": [
    "geolocation_df = pd.read_csv(\"data/geolocation_dataset.csv\")\n",
    "geolocation_df.head()"
   ]
  },
  {
   "attachments": {},
   "cell_type": "markdown",
   "id": "3abe7b77-04ce-403e-bfec-26890c790037",
   "metadata": {},
   "source": [
    "**Insight:**\n",
    "- Tabel data customers_df menyimpan informasi-informasi terkait customer/pelanggan, yaitu customer_id, customer_unique_id, customer_zip_code, customer_city, customer_state\n",
    "- Tabel data sellers_df menyimpan infomasi terkait seller/penjual, yaitu seller_id, seller_zip_code, seller_city, seller_state\n",
    "- Tabel data orders_df menyimpan infomasi terkait orders/pemesanan,yaitu order_id, customer_id, order_status, order_purchase_timestamp, order_approved_at, order_delivered_carrier_date, order_delivered_customer_date, order_estimated_delivery_date\n",
    "-  Tabel data order_reviews menyimpan informasi terkait review dari pelanggan, yaitu review_id\torder_id, review_score, review_comment_title, review_comment_message, review_creation_date, review_answer_timestamp\n",
    "-  Tabel data order_items_df menyimpan informasi terkait item atau barang pesanan, yaitu order_id, order_item_id, product_id, seller_id, shipping_limit_date, price, freight_value\n",
    "-  Tabel data order_payments_df menyimpan informasi terkait pembayaran pesanan, yaitu order_id, payment_sequential, payment_type, payment_installments, payment_value\n",
    "-  Tabel data products_df meyimpan informasi terkait produk, yaitu product_id, product_category_name, product_name_lenght, product_description_lenght, product_photos_qty, product_weight_g, product_length_cm, product_height_cm, product_width_cm\n",
    "-  Tabel products_category_df menyimpan infomasi terkait kategori produk, yaitu product_category_name, product_category_name_english\n",
    "-  Tabel geolocation_df meyimpan informasi terkait kodisi geofrafis lokasi, yaitu geolocation_zip_code_prefix, geolocation_lat, geolocation_lng, geolocation_city, geolocation_state"
   ]
  },
  {
   "cell_type": "markdown",
   "id": "fdf01812-3c25-4fe8-9bcd-7b4b8c24efe0",
   "metadata": {},
   "source": [
    "### Assessing Data"
   ]
  },
  {
   "cell_type": "code",
   "execution_count": 127,
   "id": "fe42370d-96ea-479a-9bea-9fa81c4c5063",
   "metadata": {},
   "outputs": [
    {
     "name": "stdout",
     "output_type": "stream",
     "text": [
      "<class 'pandas.core.frame.DataFrame'>\n",
      "RangeIndex: 99441 entries, 0 to 99440\n",
      "Data columns (total 5 columns):\n",
      " #   Column                    Non-Null Count  Dtype \n",
      "---  ------                    --------------  ----- \n",
      " 0   customer_id               99441 non-null  object\n",
      " 1   customer_unique_id        99441 non-null  object\n",
      " 2   customer_zip_code_prefix  99441 non-null  int64 \n",
      " 3   customer_city             99441 non-null  object\n",
      " 4   customer_state            99441 non-null  object\n",
      "dtypes: int64(1), object(4)\n",
      "memory usage: 3.8+ MB\n"
     ]
    }
   ],
   "source": [
    "#menilai data customers_df\n",
    "customers_df.info()"
   ]
  },
  {
   "cell_type": "code",
   "execution_count": 128,
   "id": "f89c9f20-9772-4c61-b7b0-e64b63a91108",
   "metadata": {},
   "outputs": [
    {
     "data": {
      "text/plain": [
       "customer_id                 0\n",
       "customer_unique_id          0\n",
       "customer_zip_code_prefix    0\n",
       "customer_city               0\n",
       "customer_state              0\n",
       "dtype: int64"
      ]
     },
     "execution_count": 128,
     "metadata": {},
     "output_type": "execute_result"
    }
   ],
   "source": [
    "customers_df.isna().sum()"
   ]
  },
  {
   "cell_type": "code",
   "execution_count": 129,
   "id": "d8903320-f1fa-4866-afda-5b7ccf90e87d",
   "metadata": {},
   "outputs": [
    {
     "name": "stdout",
     "output_type": "stream",
     "text": [
      "Jumlah duplikasi:  0\n"
     ]
    }
   ],
   "source": [
    "print(\"Jumlah duplikasi: \", customers_df.duplicated().sum())"
   ]
  },
  {
   "cell_type": "code",
   "execution_count": 130,
   "id": "9a0bf03f-8913-463c-8a1a-9202e939780c",
   "metadata": {},
   "outputs": [
    {
     "data": {
      "text/html": [
       "<div>\n",
       "<style scoped>\n",
       "    .dataframe tbody tr th:only-of-type {\n",
       "        vertical-align: middle;\n",
       "    }\n",
       "\n",
       "    .dataframe tbody tr th {\n",
       "        vertical-align: top;\n",
       "    }\n",
       "\n",
       "    .dataframe thead th {\n",
       "        text-align: right;\n",
       "    }\n",
       "</style>\n",
       "<table border=\"1\" class=\"dataframe\">\n",
       "  <thead>\n",
       "    <tr style=\"text-align: right;\">\n",
       "      <th></th>\n",
       "      <th>customer_zip_code_prefix</th>\n",
       "    </tr>\n",
       "  </thead>\n",
       "  <tbody>\n",
       "    <tr>\n",
       "      <th>count</th>\n",
       "      <td>99441.000000</td>\n",
       "    </tr>\n",
       "    <tr>\n",
       "      <th>mean</th>\n",
       "      <td>35137.474583</td>\n",
       "    </tr>\n",
       "    <tr>\n",
       "      <th>std</th>\n",
       "      <td>29797.938996</td>\n",
       "    </tr>\n",
       "    <tr>\n",
       "      <th>min</th>\n",
       "      <td>1003.000000</td>\n",
       "    </tr>\n",
       "    <tr>\n",
       "      <th>25%</th>\n",
       "      <td>11347.000000</td>\n",
       "    </tr>\n",
       "    <tr>\n",
       "      <th>50%</th>\n",
       "      <td>24416.000000</td>\n",
       "    </tr>\n",
       "    <tr>\n",
       "      <th>75%</th>\n",
       "      <td>58900.000000</td>\n",
       "    </tr>\n",
       "    <tr>\n",
       "      <th>max</th>\n",
       "      <td>99990.000000</td>\n",
       "    </tr>\n",
       "  </tbody>\n",
       "</table>\n",
       "</div>"
      ],
      "text/plain": [
       "       customer_zip_code_prefix\n",
       "count              99441.000000\n",
       "mean               35137.474583\n",
       "std                29797.938996\n",
       "min                 1003.000000\n",
       "25%                11347.000000\n",
       "50%                24416.000000\n",
       "75%                58900.000000\n",
       "max                99990.000000"
      ]
     },
     "execution_count": 130,
     "metadata": {},
     "output_type": "execute_result"
    }
   ],
   "source": [
    "customers_df.describe()"
   ]
  },
  {
   "cell_type": "code",
   "execution_count": 131,
   "id": "58de8311-3b79-41ab-84f6-df6b0feaf0d4",
   "metadata": {},
   "outputs": [
    {
     "name": "stdout",
     "output_type": "stream",
     "text": [
      "<class 'pandas.core.frame.DataFrame'>\n",
      "RangeIndex: 3095 entries, 0 to 3094\n",
      "Data columns (total 4 columns):\n",
      " #   Column                  Non-Null Count  Dtype \n",
      "---  ------                  --------------  ----- \n",
      " 0   seller_id               3095 non-null   object\n",
      " 1   seller_zip_code_prefix  3095 non-null   int64 \n",
      " 2   seller_city             3095 non-null   object\n",
      " 3   seller_state            3095 non-null   object\n",
      "dtypes: int64(1), object(3)\n",
      "memory usage: 96.8+ KB\n"
     ]
    }
   ],
   "source": [
    "#Menilai data sellers\n",
    "sellers_df.info()"
   ]
  },
  {
   "cell_type": "code",
   "execution_count": 132,
   "id": "b202370e-e6fc-44a2-aa62-1f22b7c5d2b2",
   "metadata": {
    "scrolled": true
   },
   "outputs": [
    {
     "data": {
      "text/plain": [
       "seller_id                 0\n",
       "seller_zip_code_prefix    0\n",
       "seller_city               0\n",
       "seller_state              0\n",
       "dtype: int64"
      ]
     },
     "execution_count": 132,
     "metadata": {},
     "output_type": "execute_result"
    }
   ],
   "source": [
    "sellers_df.isna().sum()"
   ]
  },
  {
   "cell_type": "code",
   "execution_count": 133,
   "id": "9743b610-3d55-4437-a00d-7ae3c4321379",
   "metadata": {},
   "outputs": [
    {
     "name": "stdout",
     "output_type": "stream",
     "text": [
      "Jumlah dupikasi:  0\n"
     ]
    }
   ],
   "source": [
    "print(\"Jumlah dupikasi: \", sellers_df.duplicated().sum())"
   ]
  },
  {
   "cell_type": "code",
   "execution_count": 134,
   "id": "991b5796-d48e-4c30-941d-1060ded92cae",
   "metadata": {},
   "outputs": [
    {
     "data": {
      "text/html": [
       "<div>\n",
       "<style scoped>\n",
       "    .dataframe tbody tr th:only-of-type {\n",
       "        vertical-align: middle;\n",
       "    }\n",
       "\n",
       "    .dataframe tbody tr th {\n",
       "        vertical-align: top;\n",
       "    }\n",
       "\n",
       "    .dataframe thead th {\n",
       "        text-align: right;\n",
       "    }\n",
       "</style>\n",
       "<table border=\"1\" class=\"dataframe\">\n",
       "  <thead>\n",
       "    <tr style=\"text-align: right;\">\n",
       "      <th></th>\n",
       "      <th>seller_zip_code_prefix</th>\n",
       "    </tr>\n",
       "  </thead>\n",
       "  <tbody>\n",
       "    <tr>\n",
       "      <th>count</th>\n",
       "      <td>3095.000000</td>\n",
       "    </tr>\n",
       "    <tr>\n",
       "      <th>mean</th>\n",
       "      <td>32291.059451</td>\n",
       "    </tr>\n",
       "    <tr>\n",
       "      <th>std</th>\n",
       "      <td>32713.453830</td>\n",
       "    </tr>\n",
       "    <tr>\n",
       "      <th>min</th>\n",
       "      <td>1001.000000</td>\n",
       "    </tr>\n",
       "    <tr>\n",
       "      <th>25%</th>\n",
       "      <td>7093.500000</td>\n",
       "    </tr>\n",
       "    <tr>\n",
       "      <th>50%</th>\n",
       "      <td>14940.000000</td>\n",
       "    </tr>\n",
       "    <tr>\n",
       "      <th>75%</th>\n",
       "      <td>64552.500000</td>\n",
       "    </tr>\n",
       "    <tr>\n",
       "      <th>max</th>\n",
       "      <td>99730.000000</td>\n",
       "    </tr>\n",
       "  </tbody>\n",
       "</table>\n",
       "</div>"
      ],
      "text/plain": [
       "       seller_zip_code_prefix\n",
       "count             3095.000000\n",
       "mean             32291.059451\n",
       "std              32713.453830\n",
       "min               1001.000000\n",
       "25%               7093.500000\n",
       "50%              14940.000000\n",
       "75%              64552.500000\n",
       "max              99730.000000"
      ]
     },
     "execution_count": 134,
     "metadata": {},
     "output_type": "execute_result"
    }
   ],
   "source": [
    "sellers_df.describe()"
   ]
  },
  {
   "cell_type": "code",
   "execution_count": 135,
   "id": "9472ae4d-e695-4612-9842-f67beda695be",
   "metadata": {},
   "outputs": [
    {
     "name": "stdout",
     "output_type": "stream",
     "text": [
      "<class 'pandas.core.frame.DataFrame'>\n",
      "RangeIndex: 99441 entries, 0 to 99440\n",
      "Data columns (total 8 columns):\n",
      " #   Column                         Non-Null Count  Dtype \n",
      "---  ------                         --------------  ----- \n",
      " 0   order_id                       99441 non-null  object\n",
      " 1   customer_id                    99441 non-null  object\n",
      " 2   order_status                   99441 non-null  object\n",
      " 3   order_purchase_timestamp       99441 non-null  object\n",
      " 4   order_approved_at              99281 non-null  object\n",
      " 5   order_delivered_carrier_date   97658 non-null  object\n",
      " 6   order_delivered_customer_date  96476 non-null  object\n",
      " 7   order_estimated_delivery_date  99441 non-null  object\n",
      "dtypes: object(8)\n",
      "memory usage: 6.1+ MB\n"
     ]
    }
   ],
   "source": [
    "#Menilai data orders_df\n",
    "orders_df.info()"
   ]
  },
  {
   "cell_type": "code",
   "execution_count": 136,
   "id": "696adde6-dc8d-4472-989e-af42ac3b8346",
   "metadata": {
    "scrolled": true
   },
   "outputs": [
    {
     "data": {
      "text/plain": [
       "order_id                            0\n",
       "customer_id                         0\n",
       "order_status                        0\n",
       "order_purchase_timestamp            0\n",
       "order_approved_at                 160\n",
       "order_delivered_carrier_date     1783\n",
       "order_delivered_customer_date    2965\n",
       "order_estimated_delivery_date       0\n",
       "dtype: int64"
      ]
     },
     "execution_count": 136,
     "metadata": {},
     "output_type": "execute_result"
    }
   ],
   "source": [
    "orders_df.isna().sum()"
   ]
  },
  {
   "cell_type": "code",
   "execution_count": 137,
   "id": "fad4376a-f6ef-4dd1-b154-91467e36f12e",
   "metadata": {},
   "outputs": [
    {
     "name": "stdout",
     "output_type": "stream",
     "text": [
      "Jumlah duplikasi:  0\n"
     ]
    }
   ],
   "source": [
    "print(\"Jumlah duplikasi: \", orders_df.duplicated().sum())"
   ]
  },
  {
   "cell_type": "code",
   "execution_count": 138,
   "id": "a8eeee8a-10eb-4bb5-a67c-e3822e886038",
   "metadata": {
    "scrolled": true
   },
   "outputs": [
    {
     "data": {
      "text/html": [
       "<div>\n",
       "<style scoped>\n",
       "    .dataframe tbody tr th:only-of-type {\n",
       "        vertical-align: middle;\n",
       "    }\n",
       "\n",
       "    .dataframe tbody tr th {\n",
       "        vertical-align: top;\n",
       "    }\n",
       "\n",
       "    .dataframe thead th {\n",
       "        text-align: right;\n",
       "    }\n",
       "</style>\n",
       "<table border=\"1\" class=\"dataframe\">\n",
       "  <thead>\n",
       "    <tr style=\"text-align: right;\">\n",
       "      <th></th>\n",
       "      <th>order_id</th>\n",
       "      <th>customer_id</th>\n",
       "      <th>order_status</th>\n",
       "      <th>order_purchase_timestamp</th>\n",
       "      <th>order_approved_at</th>\n",
       "      <th>order_delivered_carrier_date</th>\n",
       "      <th>order_delivered_customer_date</th>\n",
       "      <th>order_estimated_delivery_date</th>\n",
       "    </tr>\n",
       "  </thead>\n",
       "  <tbody>\n",
       "    <tr>\n",
       "      <th>count</th>\n",
       "      <td>99441</td>\n",
       "      <td>99441</td>\n",
       "      <td>99441</td>\n",
       "      <td>99441</td>\n",
       "      <td>99281</td>\n",
       "      <td>97658</td>\n",
       "      <td>96476</td>\n",
       "      <td>99441</td>\n",
       "    </tr>\n",
       "    <tr>\n",
       "      <th>unique</th>\n",
       "      <td>99441</td>\n",
       "      <td>99441</td>\n",
       "      <td>8</td>\n",
       "      <td>98875</td>\n",
       "      <td>90733</td>\n",
       "      <td>81018</td>\n",
       "      <td>95664</td>\n",
       "      <td>459</td>\n",
       "    </tr>\n",
       "    <tr>\n",
       "      <th>top</th>\n",
       "      <td>66dea50a8b16d9b4dee7af250b4be1a5</td>\n",
       "      <td>edb027a75a1449115f6b43211ae02a24</td>\n",
       "      <td>delivered</td>\n",
       "      <td>2018-08-02 12:05:26</td>\n",
       "      <td>2018-02-27 04:31:10</td>\n",
       "      <td>2018-05-09 15:48:00</td>\n",
       "      <td>2018-05-08 19:36:48</td>\n",
       "      <td>2017-12-20 00:00:00</td>\n",
       "    </tr>\n",
       "    <tr>\n",
       "      <th>freq</th>\n",
       "      <td>1</td>\n",
       "      <td>1</td>\n",
       "      <td>96478</td>\n",
       "      <td>3</td>\n",
       "      <td>9</td>\n",
       "      <td>47</td>\n",
       "      <td>3</td>\n",
       "      <td>522</td>\n",
       "    </tr>\n",
       "  </tbody>\n",
       "</table>\n",
       "</div>"
      ],
      "text/plain": [
       "                                order_id                       customer_id  \\\n",
       "count                              99441                             99441   \n",
       "unique                             99441                             99441   \n",
       "top     66dea50a8b16d9b4dee7af250b4be1a5  edb027a75a1449115f6b43211ae02a24   \n",
       "freq                                   1                                 1   \n",
       "\n",
       "       order_status order_purchase_timestamp    order_approved_at  \\\n",
       "count         99441                    99441                99281   \n",
       "unique            8                    98875                90733   \n",
       "top       delivered      2018-08-02 12:05:26  2018-02-27 04:31:10   \n",
       "freq          96478                        3                    9   \n",
       "\n",
       "       order_delivered_carrier_date order_delivered_customer_date  \\\n",
       "count                         97658                         96476   \n",
       "unique                        81018                         95664   \n",
       "top             2018-05-09 15:48:00           2018-05-08 19:36:48   \n",
       "freq                             47                             3   \n",
       "\n",
       "       order_estimated_delivery_date  \n",
       "count                          99441  \n",
       "unique                           459  \n",
       "top              2017-12-20 00:00:00  \n",
       "freq                             522  "
      ]
     },
     "execution_count": 138,
     "metadata": {},
     "output_type": "execute_result"
    }
   ],
   "source": [
    "orders_df.describe()"
   ]
  },
  {
   "cell_type": "code",
   "execution_count": 139,
   "id": "097eea58-31f0-4d8c-add8-f8faad460fab",
   "metadata": {},
   "outputs": [
    {
     "name": "stdout",
     "output_type": "stream",
     "text": [
      "<class 'pandas.core.frame.DataFrame'>\n",
      "RangeIndex: 99224 entries, 0 to 99223\n",
      "Data columns (total 7 columns):\n",
      " #   Column                   Non-Null Count  Dtype \n",
      "---  ------                   --------------  ----- \n",
      " 0   review_id                99224 non-null  object\n",
      " 1   order_id                 99224 non-null  object\n",
      " 2   review_score             99224 non-null  int64 \n",
      " 3   review_comment_title     11568 non-null  object\n",
      " 4   review_comment_message   40977 non-null  object\n",
      " 5   review_creation_date     99224 non-null  object\n",
      " 6   review_answer_timestamp  99224 non-null  object\n",
      "dtypes: int64(1), object(6)\n",
      "memory usage: 5.3+ MB\n"
     ]
    }
   ],
   "source": [
    "#Menilai order_reviews_df\n",
    "order_reviews_df.info()"
   ]
  },
  {
   "cell_type": "code",
   "execution_count": 140,
   "id": "83bb0af2-ebc3-40fe-9727-552bbf6c6bc3",
   "metadata": {},
   "outputs": [
    {
     "data": {
      "text/plain": [
       "review_id                      0\n",
       "order_id                       0\n",
       "review_score                   0\n",
       "review_comment_title       87656\n",
       "review_comment_message     58247\n",
       "review_creation_date           0\n",
       "review_answer_timestamp        0\n",
       "dtype: int64"
      ]
     },
     "execution_count": 140,
     "metadata": {},
     "output_type": "execute_result"
    }
   ],
   "source": [
    "order_reviews_df.isna().sum()"
   ]
  },
  {
   "cell_type": "code",
   "execution_count": 141,
   "id": "af7d2fa1-ee85-47e0-8283-3cb5498b3404",
   "metadata": {},
   "outputs": [
    {
     "name": "stdout",
     "output_type": "stream",
     "text": [
      "Jumlah duplikasi:  0\n"
     ]
    }
   ],
   "source": [
    "print(\"Jumlah duplikasi: \", order_reviews_df.duplicated().sum())"
   ]
  },
  {
   "cell_type": "code",
   "execution_count": 142,
   "id": "79e9c24f-d74b-4a34-afd3-da6159d90bf6",
   "metadata": {},
   "outputs": [
    {
     "data": {
      "text/html": [
       "<div>\n",
       "<style scoped>\n",
       "    .dataframe tbody tr th:only-of-type {\n",
       "        vertical-align: middle;\n",
       "    }\n",
       "\n",
       "    .dataframe tbody tr th {\n",
       "        vertical-align: top;\n",
       "    }\n",
       "\n",
       "    .dataframe thead th {\n",
       "        text-align: right;\n",
       "    }\n",
       "</style>\n",
       "<table border=\"1\" class=\"dataframe\">\n",
       "  <thead>\n",
       "    <tr style=\"text-align: right;\">\n",
       "      <th></th>\n",
       "      <th>review_score</th>\n",
       "    </tr>\n",
       "  </thead>\n",
       "  <tbody>\n",
       "    <tr>\n",
       "      <th>count</th>\n",
       "      <td>99224.000000</td>\n",
       "    </tr>\n",
       "    <tr>\n",
       "      <th>mean</th>\n",
       "      <td>4.086421</td>\n",
       "    </tr>\n",
       "    <tr>\n",
       "      <th>std</th>\n",
       "      <td>1.347579</td>\n",
       "    </tr>\n",
       "    <tr>\n",
       "      <th>min</th>\n",
       "      <td>1.000000</td>\n",
       "    </tr>\n",
       "    <tr>\n",
       "      <th>25%</th>\n",
       "      <td>4.000000</td>\n",
       "    </tr>\n",
       "    <tr>\n",
       "      <th>50%</th>\n",
       "      <td>5.000000</td>\n",
       "    </tr>\n",
       "    <tr>\n",
       "      <th>75%</th>\n",
       "      <td>5.000000</td>\n",
       "    </tr>\n",
       "    <tr>\n",
       "      <th>max</th>\n",
       "      <td>5.000000</td>\n",
       "    </tr>\n",
       "  </tbody>\n",
       "</table>\n",
       "</div>"
      ],
      "text/plain": [
       "       review_score\n",
       "count  99224.000000\n",
       "mean       4.086421\n",
       "std        1.347579\n",
       "min        1.000000\n",
       "25%        4.000000\n",
       "50%        5.000000\n",
       "75%        5.000000\n",
       "max        5.000000"
      ]
     },
     "execution_count": 142,
     "metadata": {},
     "output_type": "execute_result"
    }
   ],
   "source": [
    "order_reviews_df.describe()"
   ]
  },
  {
   "cell_type": "code",
   "execution_count": 143,
   "id": "21be2d8c-c8c9-4bdb-a9c9-fb1a0fc9339c",
   "metadata": {},
   "outputs": [
    {
     "name": "stdout",
     "output_type": "stream",
     "text": [
      "<class 'pandas.core.frame.DataFrame'>\n",
      "RangeIndex: 112650 entries, 0 to 112649\n",
      "Data columns (total 7 columns):\n",
      " #   Column               Non-Null Count   Dtype  \n",
      "---  ------               --------------   -----  \n",
      " 0   order_id             112650 non-null  object \n",
      " 1   order_item_id        112650 non-null  int64  \n",
      " 2   product_id           112650 non-null  object \n",
      " 3   seller_id            112650 non-null  object \n",
      " 4   shipping_limit_date  112650 non-null  object \n",
      " 5   price                112650 non-null  float64\n",
      " 6   freight_value        112650 non-null  float64\n",
      "dtypes: float64(2), int64(1), object(4)\n",
      "memory usage: 6.0+ MB\n"
     ]
    }
   ],
   "source": [
    "#Menilai data order_items_df\n",
    "order_items_df.info()"
   ]
  },
  {
   "cell_type": "code",
   "execution_count": 144,
   "id": "068daed8-4ad9-4207-a520-3de4e6dbe811",
   "metadata": {},
   "outputs": [
    {
     "data": {
      "text/plain": [
       "order_id               0\n",
       "order_item_id          0\n",
       "product_id             0\n",
       "seller_id              0\n",
       "shipping_limit_date    0\n",
       "price                  0\n",
       "freight_value          0\n",
       "dtype: int64"
      ]
     },
     "execution_count": 144,
     "metadata": {},
     "output_type": "execute_result"
    }
   ],
   "source": [
    "order_items_df.isna().sum()"
   ]
  },
  {
   "cell_type": "code",
   "execution_count": 145,
   "id": "8c93aae0-62ab-4684-86b3-df9616493f8d",
   "metadata": {},
   "outputs": [
    {
     "name": "stdout",
     "output_type": "stream",
     "text": [
      "Jumlah duplikasi:  0\n"
     ]
    }
   ],
   "source": [
    "print(\"Jumlah duplikasi: \", order_items_df.duplicated().sum())"
   ]
  },
  {
   "cell_type": "code",
   "execution_count": 146,
   "id": "3742b109-ad41-442e-b9e4-d5a423039c19",
   "metadata": {
    "scrolled": true
   },
   "outputs": [
    {
     "data": {
      "text/html": [
       "<div>\n",
       "<style scoped>\n",
       "    .dataframe tbody tr th:only-of-type {\n",
       "        vertical-align: middle;\n",
       "    }\n",
       "\n",
       "    .dataframe tbody tr th {\n",
       "        vertical-align: top;\n",
       "    }\n",
       "\n",
       "    .dataframe thead th {\n",
       "        text-align: right;\n",
       "    }\n",
       "</style>\n",
       "<table border=\"1\" class=\"dataframe\">\n",
       "  <thead>\n",
       "    <tr style=\"text-align: right;\">\n",
       "      <th></th>\n",
       "      <th>order_item_id</th>\n",
       "      <th>price</th>\n",
       "      <th>freight_value</th>\n",
       "    </tr>\n",
       "  </thead>\n",
       "  <tbody>\n",
       "    <tr>\n",
       "      <th>count</th>\n",
       "      <td>112650.000000</td>\n",
       "      <td>112650.000000</td>\n",
       "      <td>112650.000000</td>\n",
       "    </tr>\n",
       "    <tr>\n",
       "      <th>mean</th>\n",
       "      <td>1.197834</td>\n",
       "      <td>120.653739</td>\n",
       "      <td>19.990320</td>\n",
       "    </tr>\n",
       "    <tr>\n",
       "      <th>std</th>\n",
       "      <td>0.705124</td>\n",
       "      <td>183.633928</td>\n",
       "      <td>15.806405</td>\n",
       "    </tr>\n",
       "    <tr>\n",
       "      <th>min</th>\n",
       "      <td>1.000000</td>\n",
       "      <td>0.850000</td>\n",
       "      <td>0.000000</td>\n",
       "    </tr>\n",
       "    <tr>\n",
       "      <th>25%</th>\n",
       "      <td>1.000000</td>\n",
       "      <td>39.900000</td>\n",
       "      <td>13.080000</td>\n",
       "    </tr>\n",
       "    <tr>\n",
       "      <th>50%</th>\n",
       "      <td>1.000000</td>\n",
       "      <td>74.990000</td>\n",
       "      <td>16.260000</td>\n",
       "    </tr>\n",
       "    <tr>\n",
       "      <th>75%</th>\n",
       "      <td>1.000000</td>\n",
       "      <td>134.900000</td>\n",
       "      <td>21.150000</td>\n",
       "    </tr>\n",
       "    <tr>\n",
       "      <th>max</th>\n",
       "      <td>21.000000</td>\n",
       "      <td>6735.000000</td>\n",
       "      <td>409.680000</td>\n",
       "    </tr>\n",
       "  </tbody>\n",
       "</table>\n",
       "</div>"
      ],
      "text/plain": [
       "       order_item_id          price  freight_value\n",
       "count  112650.000000  112650.000000  112650.000000\n",
       "mean        1.197834     120.653739      19.990320\n",
       "std         0.705124     183.633928      15.806405\n",
       "min         1.000000       0.850000       0.000000\n",
       "25%         1.000000      39.900000      13.080000\n",
       "50%         1.000000      74.990000      16.260000\n",
       "75%         1.000000     134.900000      21.150000\n",
       "max        21.000000    6735.000000     409.680000"
      ]
     },
     "execution_count": 146,
     "metadata": {},
     "output_type": "execute_result"
    }
   ],
   "source": [
    "order_items_df.describe()"
   ]
  },
  {
   "cell_type": "code",
   "execution_count": 147,
   "id": "998793c6-10a9-4a7a-900f-6c2e58c1ffac",
   "metadata": {
    "scrolled": true
   },
   "outputs": [
    {
     "name": "stdout",
     "output_type": "stream",
     "text": [
      "<class 'pandas.core.frame.DataFrame'>\n",
      "RangeIndex: 103886 entries, 0 to 103885\n",
      "Data columns (total 5 columns):\n",
      " #   Column                Non-Null Count   Dtype  \n",
      "---  ------                --------------   -----  \n",
      " 0   order_id              103886 non-null  object \n",
      " 1   payment_sequential    103886 non-null  int64  \n",
      " 2   payment_type          103886 non-null  object \n",
      " 3   payment_installments  103886 non-null  int64  \n",
      " 4   payment_value         103886 non-null  float64\n",
      "dtypes: float64(1), int64(2), object(2)\n",
      "memory usage: 4.0+ MB\n"
     ]
    }
   ],
   "source": [
    "#Menilai data order_payments\n",
    "order_payments_df.info()"
   ]
  },
  {
   "cell_type": "code",
   "execution_count": 148,
   "id": "0ff9df9d-62c6-4f59-9893-40886ab51e79",
   "metadata": {},
   "outputs": [
    {
     "data": {
      "text/plain": [
       "order_id                0\n",
       "payment_sequential      0\n",
       "payment_type            0\n",
       "payment_installments    0\n",
       "payment_value           0\n",
       "dtype: int64"
      ]
     },
     "execution_count": 148,
     "metadata": {},
     "output_type": "execute_result"
    }
   ],
   "source": [
    "order_payments_df.isna().sum()"
   ]
  },
  {
   "cell_type": "code",
   "execution_count": 149,
   "id": "f6466de1-5b84-4525-98ce-b8e633abc1d3",
   "metadata": {},
   "outputs": [
    {
     "name": "stdout",
     "output_type": "stream",
     "text": [
      "Jumlah dupikasi:  0\n"
     ]
    }
   ],
   "source": [
    "print(\"Jumlah dupikasi: \", order_items_df.duplicated().sum())"
   ]
  },
  {
   "cell_type": "code",
   "execution_count": 150,
   "id": "c822dc56-1648-4147-87fa-e90212125b85",
   "metadata": {},
   "outputs": [
    {
     "data": {
      "text/html": [
       "<div>\n",
       "<style scoped>\n",
       "    .dataframe tbody tr th:only-of-type {\n",
       "        vertical-align: middle;\n",
       "    }\n",
       "\n",
       "    .dataframe tbody tr th {\n",
       "        vertical-align: top;\n",
       "    }\n",
       "\n",
       "    .dataframe thead th {\n",
       "        text-align: right;\n",
       "    }\n",
       "</style>\n",
       "<table border=\"1\" class=\"dataframe\">\n",
       "  <thead>\n",
       "    <tr style=\"text-align: right;\">\n",
       "      <th></th>\n",
       "      <th>payment_sequential</th>\n",
       "      <th>payment_installments</th>\n",
       "      <th>payment_value</th>\n",
       "    </tr>\n",
       "  </thead>\n",
       "  <tbody>\n",
       "    <tr>\n",
       "      <th>count</th>\n",
       "      <td>103886.000000</td>\n",
       "      <td>103886.000000</td>\n",
       "      <td>103886.000000</td>\n",
       "    </tr>\n",
       "    <tr>\n",
       "      <th>mean</th>\n",
       "      <td>1.092679</td>\n",
       "      <td>2.853349</td>\n",
       "      <td>154.100380</td>\n",
       "    </tr>\n",
       "    <tr>\n",
       "      <th>std</th>\n",
       "      <td>0.706584</td>\n",
       "      <td>2.687051</td>\n",
       "      <td>217.494064</td>\n",
       "    </tr>\n",
       "    <tr>\n",
       "      <th>min</th>\n",
       "      <td>1.000000</td>\n",
       "      <td>0.000000</td>\n",
       "      <td>0.000000</td>\n",
       "    </tr>\n",
       "    <tr>\n",
       "      <th>25%</th>\n",
       "      <td>1.000000</td>\n",
       "      <td>1.000000</td>\n",
       "      <td>56.790000</td>\n",
       "    </tr>\n",
       "    <tr>\n",
       "      <th>50%</th>\n",
       "      <td>1.000000</td>\n",
       "      <td>1.000000</td>\n",
       "      <td>100.000000</td>\n",
       "    </tr>\n",
       "    <tr>\n",
       "      <th>75%</th>\n",
       "      <td>1.000000</td>\n",
       "      <td>4.000000</td>\n",
       "      <td>171.837500</td>\n",
       "    </tr>\n",
       "    <tr>\n",
       "      <th>max</th>\n",
       "      <td>29.000000</td>\n",
       "      <td>24.000000</td>\n",
       "      <td>13664.080000</td>\n",
       "    </tr>\n",
       "  </tbody>\n",
       "</table>\n",
       "</div>"
      ],
      "text/plain": [
       "       payment_sequential  payment_installments  payment_value\n",
       "count       103886.000000         103886.000000  103886.000000\n",
       "mean             1.092679              2.853349     154.100380\n",
       "std              0.706584              2.687051     217.494064\n",
       "min              1.000000              0.000000       0.000000\n",
       "25%              1.000000              1.000000      56.790000\n",
       "50%              1.000000              1.000000     100.000000\n",
       "75%              1.000000              4.000000     171.837500\n",
       "max             29.000000             24.000000   13664.080000"
      ]
     },
     "execution_count": 150,
     "metadata": {},
     "output_type": "execute_result"
    }
   ],
   "source": [
    "order_payments_df.describe()"
   ]
  },
  {
   "cell_type": "code",
   "execution_count": 151,
   "id": "edb9247a-6b6c-4c03-af0e-4c7e5e83e378",
   "metadata": {},
   "outputs": [
    {
     "name": "stdout",
     "output_type": "stream",
     "text": [
      "<class 'pandas.core.frame.DataFrame'>\n",
      "RangeIndex: 32951 entries, 0 to 32950\n",
      "Data columns (total 9 columns):\n",
      " #   Column                      Non-Null Count  Dtype  \n",
      "---  ------                      --------------  -----  \n",
      " 0   product_id                  32951 non-null  object \n",
      " 1   product_category_name       32341 non-null  object \n",
      " 2   product_name_lenght         32341 non-null  float64\n",
      " 3   product_description_lenght  32341 non-null  float64\n",
      " 4   product_photos_qty          32341 non-null  float64\n",
      " 5   product_weight_g            32949 non-null  float64\n",
      " 6   product_length_cm           32949 non-null  float64\n",
      " 7   product_height_cm           32949 non-null  float64\n",
      " 8   product_width_cm            32949 non-null  float64\n",
      "dtypes: float64(7), object(2)\n",
      "memory usage: 2.3+ MB\n"
     ]
    }
   ],
   "source": [
    "#Menilai data products_df\n",
    "products_df.info()"
   ]
  },
  {
   "cell_type": "code",
   "execution_count": 152,
   "id": "857428db-9d1a-4a71-8d9d-cdef354c46be",
   "metadata": {},
   "outputs": [
    {
     "data": {
      "text/plain": [
       "product_id                      0\n",
       "product_category_name         610\n",
       "product_name_lenght           610\n",
       "product_description_lenght    610\n",
       "product_photos_qty            610\n",
       "product_weight_g                2\n",
       "product_length_cm               2\n",
       "product_height_cm               2\n",
       "product_width_cm                2\n",
       "dtype: int64"
      ]
     },
     "execution_count": 152,
     "metadata": {},
     "output_type": "execute_result"
    }
   ],
   "source": [
    "products_df.isna().sum()"
   ]
  },
  {
   "cell_type": "code",
   "execution_count": 153,
   "id": "1539ade0-2c73-43f8-8ca2-3d84dd2356ba",
   "metadata": {},
   "outputs": [
    {
     "name": "stdout",
     "output_type": "stream",
     "text": [
      "Jumlah dupikasi:  0\n"
     ]
    }
   ],
   "source": [
    "print(\"Jumlah dupikasi: \", products_df.duplicated().sum())"
   ]
  },
  {
   "cell_type": "code",
   "execution_count": 154,
   "id": "f8b86dff-1060-4c64-8489-7633e813a6f8",
   "metadata": {
    "scrolled": true
   },
   "outputs": [
    {
     "data": {
      "text/html": [
       "<div>\n",
       "<style scoped>\n",
       "    .dataframe tbody tr th:only-of-type {\n",
       "        vertical-align: middle;\n",
       "    }\n",
       "\n",
       "    .dataframe tbody tr th {\n",
       "        vertical-align: top;\n",
       "    }\n",
       "\n",
       "    .dataframe thead th {\n",
       "        text-align: right;\n",
       "    }\n",
       "</style>\n",
       "<table border=\"1\" class=\"dataframe\">\n",
       "  <thead>\n",
       "    <tr style=\"text-align: right;\">\n",
       "      <th></th>\n",
       "      <th>product_name_lenght</th>\n",
       "      <th>product_description_lenght</th>\n",
       "      <th>product_photos_qty</th>\n",
       "      <th>product_weight_g</th>\n",
       "      <th>product_length_cm</th>\n",
       "      <th>product_height_cm</th>\n",
       "      <th>product_width_cm</th>\n",
       "    </tr>\n",
       "  </thead>\n",
       "  <tbody>\n",
       "    <tr>\n",
       "      <th>count</th>\n",
       "      <td>32341.000000</td>\n",
       "      <td>32341.000000</td>\n",
       "      <td>32341.000000</td>\n",
       "      <td>32949.000000</td>\n",
       "      <td>32949.000000</td>\n",
       "      <td>32949.000000</td>\n",
       "      <td>32949.000000</td>\n",
       "    </tr>\n",
       "    <tr>\n",
       "      <th>mean</th>\n",
       "      <td>48.476949</td>\n",
       "      <td>771.495285</td>\n",
       "      <td>2.188986</td>\n",
       "      <td>2276.472488</td>\n",
       "      <td>30.815078</td>\n",
       "      <td>16.937661</td>\n",
       "      <td>23.196728</td>\n",
       "    </tr>\n",
       "    <tr>\n",
       "      <th>std</th>\n",
       "      <td>10.245741</td>\n",
       "      <td>635.115225</td>\n",
       "      <td>1.736766</td>\n",
       "      <td>4282.038731</td>\n",
       "      <td>16.914458</td>\n",
       "      <td>13.637554</td>\n",
       "      <td>12.079047</td>\n",
       "    </tr>\n",
       "    <tr>\n",
       "      <th>min</th>\n",
       "      <td>5.000000</td>\n",
       "      <td>4.000000</td>\n",
       "      <td>1.000000</td>\n",
       "      <td>0.000000</td>\n",
       "      <td>7.000000</td>\n",
       "      <td>2.000000</td>\n",
       "      <td>6.000000</td>\n",
       "    </tr>\n",
       "    <tr>\n",
       "      <th>25%</th>\n",
       "      <td>42.000000</td>\n",
       "      <td>339.000000</td>\n",
       "      <td>1.000000</td>\n",
       "      <td>300.000000</td>\n",
       "      <td>18.000000</td>\n",
       "      <td>8.000000</td>\n",
       "      <td>15.000000</td>\n",
       "    </tr>\n",
       "    <tr>\n",
       "      <th>50%</th>\n",
       "      <td>51.000000</td>\n",
       "      <td>595.000000</td>\n",
       "      <td>1.000000</td>\n",
       "      <td>700.000000</td>\n",
       "      <td>25.000000</td>\n",
       "      <td>13.000000</td>\n",
       "      <td>20.000000</td>\n",
       "    </tr>\n",
       "    <tr>\n",
       "      <th>75%</th>\n",
       "      <td>57.000000</td>\n",
       "      <td>972.000000</td>\n",
       "      <td>3.000000</td>\n",
       "      <td>1900.000000</td>\n",
       "      <td>38.000000</td>\n",
       "      <td>21.000000</td>\n",
       "      <td>30.000000</td>\n",
       "    </tr>\n",
       "    <tr>\n",
       "      <th>max</th>\n",
       "      <td>76.000000</td>\n",
       "      <td>3992.000000</td>\n",
       "      <td>20.000000</td>\n",
       "      <td>40425.000000</td>\n",
       "      <td>105.000000</td>\n",
       "      <td>105.000000</td>\n",
       "      <td>118.000000</td>\n",
       "    </tr>\n",
       "  </tbody>\n",
       "</table>\n",
       "</div>"
      ],
      "text/plain": [
       "       product_name_lenght  product_description_lenght  product_photos_qty  \\\n",
       "count         32341.000000                32341.000000        32341.000000   \n",
       "mean             48.476949                  771.495285            2.188986   \n",
       "std              10.245741                  635.115225            1.736766   \n",
       "min               5.000000                    4.000000            1.000000   \n",
       "25%              42.000000                  339.000000            1.000000   \n",
       "50%              51.000000                  595.000000            1.000000   \n",
       "75%              57.000000                  972.000000            3.000000   \n",
       "max              76.000000                 3992.000000           20.000000   \n",
       "\n",
       "       product_weight_g  product_length_cm  product_height_cm  \\\n",
       "count      32949.000000       32949.000000       32949.000000   \n",
       "mean        2276.472488          30.815078          16.937661   \n",
       "std         4282.038731          16.914458          13.637554   \n",
       "min            0.000000           7.000000           2.000000   \n",
       "25%          300.000000          18.000000           8.000000   \n",
       "50%          700.000000          25.000000          13.000000   \n",
       "75%         1900.000000          38.000000          21.000000   \n",
       "max        40425.000000         105.000000         105.000000   \n",
       "\n",
       "       product_width_cm  \n",
       "count      32949.000000  \n",
       "mean          23.196728  \n",
       "std           12.079047  \n",
       "min            6.000000  \n",
       "25%           15.000000  \n",
       "50%           20.000000  \n",
       "75%           30.000000  \n",
       "max          118.000000  "
      ]
     },
     "execution_count": 154,
     "metadata": {},
     "output_type": "execute_result"
    }
   ],
   "source": [
    "products_df.describe()"
   ]
  },
  {
   "cell_type": "code",
   "execution_count": 155,
   "id": "ee54a4a1-2583-42a8-a4fa-3a07ca605f9d",
   "metadata": {},
   "outputs": [
    {
     "name": "stdout",
     "output_type": "stream",
     "text": [
      "<class 'pandas.core.frame.DataFrame'>\n",
      "RangeIndex: 71 entries, 0 to 70\n",
      "Data columns (total 2 columns):\n",
      " #   Column                         Non-Null Count  Dtype \n",
      "---  ------                         --------------  ----- \n",
      " 0   product_category_name          71 non-null     object\n",
      " 1   product_category_name_english  71 non-null     object\n",
      "dtypes: object(2)\n",
      "memory usage: 1.2+ KB\n"
     ]
    }
   ],
   "source": [
    "#Menilai data products_category_df\n",
    "products_category_df.info()"
   ]
  },
  {
   "cell_type": "code",
   "execution_count": 156,
   "id": "643bc418-eb90-4ffb-83df-04f0a7314f00",
   "metadata": {},
   "outputs": [
    {
     "data": {
      "text/plain": [
       "product_category_name            0\n",
       "product_category_name_english    0\n",
       "dtype: int64"
      ]
     },
     "execution_count": 156,
     "metadata": {},
     "output_type": "execute_result"
    }
   ],
   "source": [
    "products_category_df.isna().sum()"
   ]
  },
  {
   "cell_type": "code",
   "execution_count": 157,
   "id": "d293463b-174a-43bb-bcee-c9bd713d0251",
   "metadata": {},
   "outputs": [
    {
     "name": "stdout",
     "output_type": "stream",
     "text": [
      "Jumlah dupikasi:  0\n"
     ]
    }
   ],
   "source": [
    "print(\"Jumlah dupikasi: \", products_df.duplicated().sum())"
   ]
  },
  {
   "cell_type": "code",
   "execution_count": 158,
   "id": "7303ffaa-33ac-45a7-a7f9-ecb907d0d996",
   "metadata": {},
   "outputs": [
    {
     "data": {
      "text/html": [
       "<div>\n",
       "<style scoped>\n",
       "    .dataframe tbody tr th:only-of-type {\n",
       "        vertical-align: middle;\n",
       "    }\n",
       "\n",
       "    .dataframe tbody tr th {\n",
       "        vertical-align: top;\n",
       "    }\n",
       "\n",
       "    .dataframe thead th {\n",
       "        text-align: right;\n",
       "    }\n",
       "</style>\n",
       "<table border=\"1\" class=\"dataframe\">\n",
       "  <thead>\n",
       "    <tr style=\"text-align: right;\">\n",
       "      <th></th>\n",
       "      <th>product_category_name</th>\n",
       "      <th>product_category_name_english</th>\n",
       "    </tr>\n",
       "  </thead>\n",
       "  <tbody>\n",
       "    <tr>\n",
       "      <th>count</th>\n",
       "      <td>71</td>\n",
       "      <td>71</td>\n",
       "    </tr>\n",
       "    <tr>\n",
       "      <th>unique</th>\n",
       "      <td>71</td>\n",
       "      <td>71</td>\n",
       "    </tr>\n",
       "    <tr>\n",
       "      <th>top</th>\n",
       "      <td>beleza_saude</td>\n",
       "      <td>health_beauty</td>\n",
       "    </tr>\n",
       "    <tr>\n",
       "      <th>freq</th>\n",
       "      <td>1</td>\n",
       "      <td>1</td>\n",
       "    </tr>\n",
       "  </tbody>\n",
       "</table>\n",
       "</div>"
      ],
      "text/plain": [
       "       product_category_name product_category_name_english\n",
       "count                     71                            71\n",
       "unique                    71                            71\n",
       "top             beleza_saude                 health_beauty\n",
       "freq                       1                             1"
      ]
     },
     "execution_count": 158,
     "metadata": {},
     "output_type": "execute_result"
    }
   ],
   "source": [
    "products_category_df.describe()"
   ]
  },
  {
   "cell_type": "code",
   "execution_count": 159,
   "id": "50c4cb36-34f9-4c63-a56f-60e70e4164e0",
   "metadata": {},
   "outputs": [
    {
     "name": "stdout",
     "output_type": "stream",
     "text": [
      "<class 'pandas.core.frame.DataFrame'>\n",
      "RangeIndex: 1000163 entries, 0 to 1000162\n",
      "Data columns (total 5 columns):\n",
      " #   Column                       Non-Null Count    Dtype  \n",
      "---  ------                       --------------    -----  \n",
      " 0   geolocation_zip_code_prefix  1000163 non-null  int64  \n",
      " 1   geolocation_lat              1000163 non-null  float64\n",
      " 2   geolocation_lng              1000163 non-null  float64\n",
      " 3   geolocation_city             1000163 non-null  object \n",
      " 4   geolocation_state            1000163 non-null  object \n",
      "dtypes: float64(2), int64(1), object(2)\n",
      "memory usage: 38.2+ MB\n"
     ]
    }
   ],
   "source": [
    "#Menilai data geolocation_df\n",
    "geolocation_df.info()"
   ]
  },
  {
   "cell_type": "code",
   "execution_count": 160,
   "id": "db869232-afc7-4358-85a2-e566547fbd12",
   "metadata": {},
   "outputs": [
    {
     "data": {
      "text/plain": [
       "geolocation_zip_code_prefix    0\n",
       "geolocation_lat                0\n",
       "geolocation_lng                0\n",
       "geolocation_city               0\n",
       "geolocation_state              0\n",
       "dtype: int64"
      ]
     },
     "execution_count": 160,
     "metadata": {},
     "output_type": "execute_result"
    }
   ],
   "source": [
    "geolocation_df.isna().sum()"
   ]
  },
  {
   "cell_type": "code",
   "execution_count": 161,
   "id": "1dba3ff0-d72b-459f-bffa-1a91128d3ff1",
   "metadata": {},
   "outputs": [
    {
     "name": "stdout",
     "output_type": "stream",
     "text": [
      "Jumlah dupikasi:  261831\n"
     ]
    }
   ],
   "source": [
    "print(\"Jumlah dupikasi: \", geolocation_df.duplicated().sum())"
   ]
  },
  {
   "cell_type": "code",
   "execution_count": 162,
   "id": "abfd3ee3-c61b-48ae-9d92-089d7836d239",
   "metadata": {
    "scrolled": true
   },
   "outputs": [
    {
     "data": {
      "text/html": [
       "<div>\n",
       "<style scoped>\n",
       "    .dataframe tbody tr th:only-of-type {\n",
       "        vertical-align: middle;\n",
       "    }\n",
       "\n",
       "    .dataframe tbody tr th {\n",
       "        vertical-align: top;\n",
       "    }\n",
       "\n",
       "    .dataframe thead th {\n",
       "        text-align: right;\n",
       "    }\n",
       "</style>\n",
       "<table border=\"1\" class=\"dataframe\">\n",
       "  <thead>\n",
       "    <tr style=\"text-align: right;\">\n",
       "      <th></th>\n",
       "      <th>geolocation_zip_code_prefix</th>\n",
       "      <th>geolocation_lat</th>\n",
       "      <th>geolocation_lng</th>\n",
       "    </tr>\n",
       "  </thead>\n",
       "  <tbody>\n",
       "    <tr>\n",
       "      <th>count</th>\n",
       "      <td>1.000163e+06</td>\n",
       "      <td>1.000163e+06</td>\n",
       "      <td>1.000163e+06</td>\n",
       "    </tr>\n",
       "    <tr>\n",
       "      <th>mean</th>\n",
       "      <td>3.657417e+04</td>\n",
       "      <td>-2.117615e+01</td>\n",
       "      <td>-4.639054e+01</td>\n",
       "    </tr>\n",
       "    <tr>\n",
       "      <th>std</th>\n",
       "      <td>3.054934e+04</td>\n",
       "      <td>5.715866e+00</td>\n",
       "      <td>4.269748e+00</td>\n",
       "    </tr>\n",
       "    <tr>\n",
       "      <th>min</th>\n",
       "      <td>1.001000e+03</td>\n",
       "      <td>-3.660537e+01</td>\n",
       "      <td>-1.014668e+02</td>\n",
       "    </tr>\n",
       "    <tr>\n",
       "      <th>25%</th>\n",
       "      <td>1.107500e+04</td>\n",
       "      <td>-2.360355e+01</td>\n",
       "      <td>-4.857317e+01</td>\n",
       "    </tr>\n",
       "    <tr>\n",
       "      <th>50%</th>\n",
       "      <td>2.653000e+04</td>\n",
       "      <td>-2.291938e+01</td>\n",
       "      <td>-4.663788e+01</td>\n",
       "    </tr>\n",
       "    <tr>\n",
       "      <th>75%</th>\n",
       "      <td>6.350400e+04</td>\n",
       "      <td>-1.997962e+01</td>\n",
       "      <td>-4.376771e+01</td>\n",
       "    </tr>\n",
       "    <tr>\n",
       "      <th>max</th>\n",
       "      <td>9.999000e+04</td>\n",
       "      <td>4.506593e+01</td>\n",
       "      <td>1.211054e+02</td>\n",
       "    </tr>\n",
       "  </tbody>\n",
       "</table>\n",
       "</div>"
      ],
      "text/plain": [
       "       geolocation_zip_code_prefix  geolocation_lat  geolocation_lng\n",
       "count                 1.000163e+06     1.000163e+06     1.000163e+06\n",
       "mean                  3.657417e+04    -2.117615e+01    -4.639054e+01\n",
       "std                   3.054934e+04     5.715866e+00     4.269748e+00\n",
       "min                   1.001000e+03    -3.660537e+01    -1.014668e+02\n",
       "25%                   1.107500e+04    -2.360355e+01    -4.857317e+01\n",
       "50%                   2.653000e+04    -2.291938e+01    -4.663788e+01\n",
       "75%                   6.350400e+04    -1.997962e+01    -4.376771e+01\n",
       "max                   9.999000e+04     4.506593e+01     1.211054e+02"
      ]
     },
     "execution_count": 162,
     "metadata": {},
     "output_type": "execute_result"
    }
   ],
   "source": [
    "geolocation_df.describe()"
   ]
  },
  {
   "cell_type": "markdown",
   "id": "262ea299-fa24-4bbe-abbd-9b792c15b1db",
   "metadata": {},
   "source": [
    "**Insight:**\n",
    "Penilaian data yang dihasilkan dari proses assesing data yaitu:\n",
    "1. Tidak terdapat masalah data pada tabel data **customers_df**, **sellers_df**, **order_payments_df**, dan **products_category_df**\n",
    "2. Terdapat beberapa masalah data pada tabel data, sebagai berikut:\n",
    "- **orders_df**: memiliki kesalahan tipe data pada kolom order_purchase_timestamp, order_approved_at order_delivered_carrier_date, order_delivered_customer_date, order_estimated_delivery_date; terdapat *missing value* pada kolom order_approved_at sebanyak 160 data, order_delivered_carrier_date sebanyak 1783, order_delivered_customer_date sebanyak 2965, order_delivered_customer_date sebanyak 96476\n",
    "- **order_reviews_df**:\n",
    " memiliki kesalahan tipe data pada kolom review_creation_date dan review_answer_timestamp; terdapat *missing value* pada kolom review_comment_title sebanyak 87656 dan review_comment_message sebanyak 58247\n",
    "- **order_items_df**:\n",
    "memiliki kesalahan tipe data pada kolom shipping_limit_date\n",
    "- **products_df**: terdapat *missing value* pada kolom product_category_name, product_name_lenght, product_description_lenght, product_photos_qty, product_weight_g, product_lenght_cm, product_height_cm, product_width_cm\n",
    "- **geolocation_df**: terdapat duplikasi sebanyak 261831 data"
   ]
  },
  {
   "cell_type": "markdown",
   "id": "92226fe2-3b21-4890-bbff-6132999a5870",
   "metadata": {
    "jp-MarkdownHeadingCollapsed": true
   },
   "source": [
    "### Cleaning Data"
   ]
  },
  {
   "cell_type": "markdown",
   "id": "82bb4d5c-8c6a-49c3-9c10-84d4698e04f4",
   "metadata": {},
   "source": [
    "Membersihkan Data orders_df"
   ]
  },
  {
   "cell_type": "code",
   "execution_count": 163,
   "id": "fc408f83-ffce-45a2-a25f-bc3a073e3a13",
   "metadata": {},
   "outputs": [],
   "source": [
    "#mengubah tipe data object menjadi date\n",
    "datetime_columns = [\"order_purchase_timestamp\", \"order_approved_at\", \"order_delivered_carrier_date\", \"order_delivered_customer_date\", \"order_estimated_delivery_date\"]\n",
    "for column in datetime_columns:\n",
    "    orders_df[column] = pd.to_datetime(orders_df[column])"
   ]
  },
  {
   "cell_type": "code",
   "execution_count": 164,
   "id": "a6a80fe9-5d05-4dbf-b593-404579acf84d",
   "metadata": {},
   "outputs": [
    {
     "name": "stdout",
     "output_type": "stream",
     "text": [
      "<class 'pandas.core.frame.DataFrame'>\n",
      "RangeIndex: 99441 entries, 0 to 99440\n",
      "Data columns (total 8 columns):\n",
      " #   Column                         Non-Null Count  Dtype         \n",
      "---  ------                         --------------  -----         \n",
      " 0   order_id                       99441 non-null  object        \n",
      " 1   customer_id                    99441 non-null  object        \n",
      " 2   order_status                   99441 non-null  object        \n",
      " 3   order_purchase_timestamp       99441 non-null  datetime64[ns]\n",
      " 4   order_approved_at              99281 non-null  datetime64[ns]\n",
      " 5   order_delivered_carrier_date   97658 non-null  datetime64[ns]\n",
      " 6   order_delivered_customer_date  96476 non-null  datetime64[ns]\n",
      " 7   order_estimated_delivery_date  99441 non-null  datetime64[ns]\n",
      "dtypes: datetime64[ns](5), object(3)\n",
      "memory usage: 6.1+ MB\n"
     ]
    }
   ],
   "source": [
    "orders_df.info()"
   ]
  },
  {
   "cell_type": "code",
   "execution_count": 165,
   "id": "0fab0ad6-a921-4b1b-b022-b232cbf74288",
   "metadata": {},
   "outputs": [],
   "source": [
    "#menangani missing value\n",
    "missing_columns_order = [\"order_approved_at\", \"order_delivered_carrier_date\", \"order_delivered_customer_date\"]\n",
    "for column in missing_columns_order:\n",
    "    orders_df[column] = orders_df[column].interpolate(method='linear', limit_direction = 'forward')"
   ]
  },
  {
   "cell_type": "code",
   "execution_count": 166,
   "id": "76c57bef-14ce-496d-9acf-880e90f3c6dc",
   "metadata": {},
   "outputs": [
    {
     "data": {
      "text/plain": [
       "order_id                         0\n",
       "customer_id                      0\n",
       "order_status                     0\n",
       "order_purchase_timestamp         0\n",
       "order_approved_at                0\n",
       "order_delivered_carrier_date     0\n",
       "order_delivered_customer_date    0\n",
       "order_estimated_delivery_date    0\n",
       "dtype: int64"
      ]
     },
     "execution_count": 166,
     "metadata": {},
     "output_type": "execute_result"
    }
   ],
   "source": [
    "orders_df.isna().sum()"
   ]
  },
  {
   "cell_type": "markdown",
   "id": "ef89b913-d110-4036-b563-6c96791dbd6e",
   "metadata": {},
   "source": [
    "Membersihkan Data order_reviews_df"
   ]
  },
  {
   "cell_type": "code",
   "execution_count": 167,
   "id": "1f17d093-966b-484a-9a88-acbc1df71d0f",
   "metadata": {},
   "outputs": [],
   "source": [
    "#mengubah kesalahan tipe data time series\n",
    "datetime_columns = [\"review_creation_date\", \"review_answer_timestamp\"]\n",
    "for column in datetime_columns:\n",
    "    order_reviews_df[column] = pd.to_datetime(order_reviews_df[column])"
   ]
  },
  {
   "cell_type": "code",
   "execution_count": 168,
   "id": "2c250071-059a-4dd2-a3e7-f73947d307b8",
   "metadata": {},
   "outputs": [
    {
     "name": "stdout",
     "output_type": "stream",
     "text": [
      "<class 'pandas.core.frame.DataFrame'>\n",
      "RangeIndex: 99224 entries, 0 to 99223\n",
      "Data columns (total 7 columns):\n",
      " #   Column                   Non-Null Count  Dtype         \n",
      "---  ------                   --------------  -----         \n",
      " 0   review_id                99224 non-null  object        \n",
      " 1   order_id                 99224 non-null  object        \n",
      " 2   review_score             99224 non-null  int64         \n",
      " 3   review_comment_title     11568 non-null  object        \n",
      " 4   review_comment_message   40977 non-null  object        \n",
      " 5   review_creation_date     99224 non-null  datetime64[ns]\n",
      " 6   review_answer_timestamp  99224 non-null  datetime64[ns]\n",
      "dtypes: datetime64[ns](2), int64(1), object(4)\n",
      "memory usage: 5.3+ MB\n"
     ]
    }
   ],
   "source": [
    "order_reviews_df.info()"
   ]
  },
  {
   "cell_type": "code",
   "execution_count": 169,
   "id": "d8134e7f-b34b-452f-aabe-2d8a42342452",
   "metadata": {},
   "outputs": [],
   "source": [
    "#menangani missing value dengan menghapus kolomnya karena presentase missing value yang tinggi (lebih dari 50%) dan penilaian data terkait review dapat dianalisis berdasarkan rating (review score)\n",
    "review_missing_column = [\"review_comment_title\", \"review_comment_message\"]\n",
    "for column in review_missing_column:\n",
    "    if column in order_reviews_df.columns:\n",
    "        order_reviews_df.drop(column, axis=1, inplace=True)"
   ]
  },
  {
   "cell_type": "code",
   "execution_count": 170,
   "id": "1142edc9-54af-4fcb-afe4-26a7a31da507",
   "metadata": {
    "scrolled": true
   },
   "outputs": [
    {
     "data": {
      "text/plain": [
       "review_id                  0\n",
       "order_id                   0\n",
       "review_score               0\n",
       "review_creation_date       0\n",
       "review_answer_timestamp    0\n",
       "dtype: int64"
      ]
     },
     "execution_count": 170,
     "metadata": {},
     "output_type": "execute_result"
    }
   ],
   "source": [
    "order_reviews_df.isna().sum()"
   ]
  },
  {
   "cell_type": "markdown",
   "id": "b541a990-f174-468c-9210-9ba6089aeaaf",
   "metadata": {},
   "source": [
    "Membersihkan Data order_items_df"
   ]
  },
  {
   "cell_type": "code",
   "execution_count": 171,
   "id": "a42bde25-b801-491a-86ae-1acc8bda0419",
   "metadata": {},
   "outputs": [],
   "source": [
    "#mengubah kesalahan tipe data time series pada kolom shipping_limit_date\n",
    "order_items_df['shipping_limit_date'] = pd.to_datetime(order_items_df['shipping_limit_date'])"
   ]
  },
  {
   "cell_type": "code",
   "execution_count": 172,
   "id": "3534a7a9-b940-4abd-82df-3e9ab9311e33",
   "metadata": {},
   "outputs": [
    {
     "name": "stdout",
     "output_type": "stream",
     "text": [
      "<class 'pandas.core.frame.DataFrame'>\n",
      "RangeIndex: 112650 entries, 0 to 112649\n",
      "Data columns (total 7 columns):\n",
      " #   Column               Non-Null Count   Dtype         \n",
      "---  ------               --------------   -----         \n",
      " 0   order_id             112650 non-null  object        \n",
      " 1   order_item_id        112650 non-null  int64         \n",
      " 2   product_id           112650 non-null  object        \n",
      " 3   seller_id            112650 non-null  object        \n",
      " 4   shipping_limit_date  112650 non-null  datetime64[ns]\n",
      " 5   price                112650 non-null  float64       \n",
      " 6   freight_value        112650 non-null  float64       \n",
      "dtypes: datetime64[ns](1), float64(2), int64(1), object(3)\n",
      "memory usage: 6.0+ MB\n"
     ]
    }
   ],
   "source": [
    "order_items_df.info()"
   ]
  },
  {
   "cell_type": "markdown",
   "id": "b58f3657-f739-4943-ae8d-58607538e3a4",
   "metadata": {},
   "source": [
    "Membersihkan Data products_df"
   ]
  },
  {
   "cell_type": "code",
   "execution_count": 173,
   "id": "8ef2cd07-5cc1-4ab6-9e56-4a79fe5ab511",
   "metadata": {},
   "outputs": [
    {
     "data": {
      "text/plain": [
       "0                               perfumaria\n",
       "1                                    artes\n",
       "2                            esporte_lazer\n",
       "3                                    bebes\n",
       "4                    utilidades_domesticas\n",
       "                       ...                \n",
       "32946                     moveis_decoracao\n",
       "32947    construcao_ferramentas_iluminacao\n",
       "32948                      cama_mesa_banho\n",
       "32949               informatica_acessorios\n",
       "32950                      cama_mesa_banho\n",
       "Name: product_category_name, Length: 32951, dtype: object"
      ]
     },
     "execution_count": 173,
     "metadata": {},
     "output_type": "execute_result"
    }
   ],
   "source": [
    "#mengisi missing value menggunakan mode pada kolom product_category_name\n",
    "products_df['product_category_name'].fillna(products_df['product_category_name'].mode()[0])"
   ]
  },
  {
   "cell_type": "code",
   "execution_count": 174,
   "id": "9de45f44-b311-481d-9f1d-a1e367216fd3",
   "metadata": {},
   "outputs": [],
   "source": [
    "#mengisi missing value menggunakan mean pada kolom product_name_lenght, product_description_lenght, product_photos_qty\n",
    "product_column = [\"product_name_lenght\", \"product_description_lenght\", \"product_photos_qty\"]\n",
    "for column in product_column:\n",
    "    if column in products_df.columns:\n",
    "        products_df[column] = products_df[column].fillna(products_df[column].mean())\n",
    "    "
   ]
  },
  {
   "cell_type": "code",
   "execution_count": 175,
   "id": "156c9abd-c1d5-44ea-b232-d680cf0b82ef",
   "metadata": {},
   "outputs": [],
   "source": [
    "#mengisi missing value menggunakan median pada kolom product_weight_g, product_length_cm, product_height_cm, product_width_cm\n",
    "product_columns = [\"product_weight_g\", \"product_length_cm\", \"product_height_cm\", \"product_width_cm\"]\n",
    "for column in product_columns:\n",
    "    if column in products_df.columns:\n",
    "        products_df[column] = products_df[column].fillna(products_df[column].median())"
   ]
  },
  {
   "cell_type": "code",
   "execution_count": 176,
   "id": "ed14a0fa-f599-4bdb-8789-e9c2764007e1",
   "metadata": {},
   "outputs": [
    {
     "data": {
      "text/plain": [
       "product_id                      0\n",
       "product_category_name         610\n",
       "product_name_lenght             0\n",
       "product_description_lenght      0\n",
       "product_photos_qty              0\n",
       "product_weight_g                0\n",
       "product_length_cm               0\n",
       "product_height_cm               0\n",
       "product_width_cm                0\n",
       "dtype: int64"
      ]
     },
     "execution_count": 176,
     "metadata": {},
     "output_type": "execute_result"
    }
   ],
   "source": [
    "products_df.isna().sum()"
   ]
  },
  {
   "cell_type": "markdown",
   "id": "1e261147-3ae5-47e4-bf3a-21e7150a6ab0",
   "metadata": {},
   "source": [
    "Membersihkan Data geolocation_df"
   ]
  },
  {
   "cell_type": "code",
   "execution_count": 177,
   "id": "af55592b-9dc9-48ef-834a-f3a97650569d",
   "metadata": {},
   "outputs": [
    {
     "name": "stdout",
     "output_type": "stream",
     "text": [
      "Jumlah duplikasi:  0\n"
     ]
    }
   ],
   "source": [
    "#menghilangkan duplikat data\n",
    "geolocation_df.drop_duplicates(inplace = True)\n",
    "print (\"Jumlah duplikasi: \", geolocation_df.duplicated().sum())"
   ]
  },
  {
   "cell_type": "markdown",
   "id": "2665f2a6-5432-46b4-a03a-20dc1782b8f2",
   "metadata": {},
   "source": [
    "**Insight**\n"
   ]
  },
  {
   "cell_type": "markdown",
   "id": "c4bed5c0-68ca-437d-ad74-e0dae185b890",
   "metadata": {},
   "source": [
    "## Exploratory Data"
   ]
  },
  {
   "cell_type": "markdown",
   "id": "536a2ce2-cc9e-4ffb-abd9-f7c85f697ee8",
   "metadata": {},
   "source": [
    "Mengeksplorasi data orders_df"
   ]
  },
  {
   "cell_type": "code",
   "execution_count": 178,
   "id": "3cb3d886-386e-43f4-befd-24d01b6f63f3",
   "metadata": {
    "scrolled": true
   },
   "outputs": [
    {
     "data": {
      "text/html": [
       "<div>\n",
       "<style scoped>\n",
       "    .dataframe tbody tr th:only-of-type {\n",
       "        vertical-align: middle;\n",
       "    }\n",
       "\n",
       "    .dataframe tbody tr th {\n",
       "        vertical-align: top;\n",
       "    }\n",
       "\n",
       "    .dataframe thead th {\n",
       "        text-align: right;\n",
       "    }\n",
       "</style>\n",
       "<table border=\"1\" class=\"dataframe\">\n",
       "  <thead>\n",
       "    <tr style=\"text-align: right;\">\n",
       "      <th></th>\n",
       "      <th>order_id</th>\n",
       "      <th>customer_id</th>\n",
       "      <th>order_status</th>\n",
       "      <th>order_purchase_timestamp</th>\n",
       "      <th>order_approved_at</th>\n",
       "      <th>order_delivered_carrier_date</th>\n",
       "      <th>order_delivered_customer_date</th>\n",
       "      <th>order_estimated_delivery_date</th>\n",
       "    </tr>\n",
       "  </thead>\n",
       "  <tbody>\n",
       "    <tr>\n",
       "      <th>count</th>\n",
       "      <td>99441</td>\n",
       "      <td>99441</td>\n",
       "      <td>99441</td>\n",
       "      <td>99441</td>\n",
       "      <td>99441</td>\n",
       "      <td>99441</td>\n",
       "      <td>99441</td>\n",
       "      <td>99441</td>\n",
       "    </tr>\n",
       "    <tr>\n",
       "      <th>unique</th>\n",
       "      <td>99441</td>\n",
       "      <td>99441</td>\n",
       "      <td>8</td>\n",
       "      <td>NaN</td>\n",
       "      <td>NaN</td>\n",
       "      <td>NaN</td>\n",
       "      <td>NaN</td>\n",
       "      <td>NaN</td>\n",
       "    </tr>\n",
       "    <tr>\n",
       "      <th>top</th>\n",
       "      <td>66dea50a8b16d9b4dee7af250b4be1a5</td>\n",
       "      <td>edb027a75a1449115f6b43211ae02a24</td>\n",
       "      <td>delivered</td>\n",
       "      <td>NaN</td>\n",
       "      <td>NaN</td>\n",
       "      <td>NaN</td>\n",
       "      <td>NaN</td>\n",
       "      <td>NaN</td>\n",
       "    </tr>\n",
       "    <tr>\n",
       "      <th>freq</th>\n",
       "      <td>1</td>\n",
       "      <td>1</td>\n",
       "      <td>96478</td>\n",
       "      <td>NaN</td>\n",
       "      <td>NaN</td>\n",
       "      <td>NaN</td>\n",
       "      <td>NaN</td>\n",
       "      <td>NaN</td>\n",
       "    </tr>\n",
       "    <tr>\n",
       "      <th>mean</th>\n",
       "      <td>NaN</td>\n",
       "      <td>NaN</td>\n",
       "      <td>NaN</td>\n",
       "      <td>2017-12-31 08:43:12.776581120</td>\n",
       "      <td>2017-12-31 19:03:07.926630144</td>\n",
       "      <td>2018-01-04 22:48:17.780608768</td>\n",
       "      <td>2018-01-14 13:40:17.743410688</td>\n",
       "      <td>2018-01-24 03:08:37.730111232</td>\n",
       "    </tr>\n",
       "    <tr>\n",
       "      <th>min</th>\n",
       "      <td>NaN</td>\n",
       "      <td>NaN</td>\n",
       "      <td>NaN</td>\n",
       "      <td>2016-09-04 21:15:19</td>\n",
       "      <td>2016-09-15 12:16:38</td>\n",
       "      <td>2016-10-08 10:34:01</td>\n",
       "      <td>2016-10-11 13:46:32</td>\n",
       "      <td>2016-09-30 00:00:00</td>\n",
       "    </tr>\n",
       "    <tr>\n",
       "      <th>25%</th>\n",
       "      <td>NaN</td>\n",
       "      <td>NaN</td>\n",
       "      <td>NaN</td>\n",
       "      <td>2017-09-12 14:46:19</td>\n",
       "      <td>2017-09-13 03:24:49</td>\n",
       "      <td>2017-09-18 20:12:22</td>\n",
       "      <td>2017-09-27 16:44:29</td>\n",
       "      <td>2017-10-03 00:00:00</td>\n",
       "    </tr>\n",
       "    <tr>\n",
       "      <th>50%</th>\n",
       "      <td>NaN</td>\n",
       "      <td>NaN</td>\n",
       "      <td>NaN</td>\n",
       "      <td>2018-01-18 23:04:36</td>\n",
       "      <td>2018-01-19 11:14:21</td>\n",
       "      <td>2018-01-24 11:04:02</td>\n",
       "      <td>2018-02-02 13:58:38</td>\n",
       "      <td>2018-02-15 00:00:00</td>\n",
       "    </tr>\n",
       "    <tr>\n",
       "      <th>75%</th>\n",
       "      <td>NaN</td>\n",
       "      <td>NaN</td>\n",
       "      <td>NaN</td>\n",
       "      <td>2018-05-04 15:42:16</td>\n",
       "      <td>2018-05-04 19:34:23</td>\n",
       "      <td>2018-05-07 19:09:00</td>\n",
       "      <td>2018-05-15 07:31:50</td>\n",
       "      <td>2018-05-25 00:00:00</td>\n",
       "    </tr>\n",
       "    <tr>\n",
       "      <th>max</th>\n",
       "      <td>NaN</td>\n",
       "      <td>NaN</td>\n",
       "      <td>NaN</td>\n",
       "      <td>2018-10-17 17:30:18</td>\n",
       "      <td>2018-09-03 17:40:06</td>\n",
       "      <td>2018-09-11 19:48:28</td>\n",
       "      <td>2018-10-17 13:22:46</td>\n",
       "      <td>2018-11-12 00:00:00</td>\n",
       "    </tr>\n",
       "  </tbody>\n",
       "</table>\n",
       "</div>"
      ],
      "text/plain": [
       "                                order_id                       customer_id  \\\n",
       "count                              99441                             99441   \n",
       "unique                             99441                             99441   \n",
       "top     66dea50a8b16d9b4dee7af250b4be1a5  edb027a75a1449115f6b43211ae02a24   \n",
       "freq                                   1                                 1   \n",
       "mean                                 NaN                               NaN   \n",
       "min                                  NaN                               NaN   \n",
       "25%                                  NaN                               NaN   \n",
       "50%                                  NaN                               NaN   \n",
       "75%                                  NaN                               NaN   \n",
       "max                                  NaN                               NaN   \n",
       "\n",
       "       order_status       order_purchase_timestamp  \\\n",
       "count         99441                          99441   \n",
       "unique            8                            NaN   \n",
       "top       delivered                            NaN   \n",
       "freq          96478                            NaN   \n",
       "mean            NaN  2017-12-31 08:43:12.776581120   \n",
       "min             NaN            2016-09-04 21:15:19   \n",
       "25%             NaN            2017-09-12 14:46:19   \n",
       "50%             NaN            2018-01-18 23:04:36   \n",
       "75%             NaN            2018-05-04 15:42:16   \n",
       "max             NaN            2018-10-17 17:30:18   \n",
       "\n",
       "                    order_approved_at   order_delivered_carrier_date  \\\n",
       "count                           99441                          99441   \n",
       "unique                            NaN                            NaN   \n",
       "top                               NaN                            NaN   \n",
       "freq                              NaN                            NaN   \n",
       "mean    2017-12-31 19:03:07.926630144  2018-01-04 22:48:17.780608768   \n",
       "min               2016-09-15 12:16:38            2016-10-08 10:34:01   \n",
       "25%               2017-09-13 03:24:49            2017-09-18 20:12:22   \n",
       "50%               2018-01-19 11:14:21            2018-01-24 11:04:02   \n",
       "75%               2018-05-04 19:34:23            2018-05-07 19:09:00   \n",
       "max               2018-09-03 17:40:06            2018-09-11 19:48:28   \n",
       "\n",
       "        order_delivered_customer_date  order_estimated_delivery_date  \n",
       "count                           99441                          99441  \n",
       "unique                            NaN                            NaN  \n",
       "top                               NaN                            NaN  \n",
       "freq                              NaN                            NaN  \n",
       "mean    2018-01-14 13:40:17.743410688  2018-01-24 03:08:37.730111232  \n",
       "min               2016-10-11 13:46:32            2016-09-30 00:00:00  \n",
       "25%               2017-09-27 16:44:29            2017-10-03 00:00:00  \n",
       "50%               2018-02-02 13:58:38            2018-02-15 00:00:00  \n",
       "75%               2018-05-15 07:31:50            2018-05-25 00:00:00  \n",
       "max               2018-10-17 13:22:46            2018-11-12 00:00:00  "
      ]
     },
     "execution_count": 178,
     "metadata": {},
     "output_type": "execute_result"
    }
   ],
   "source": [
    "orders_df.describe(include=\"all\")"
   ]
  },
  {
   "cell_type": "code",
   "execution_count": 179,
   "id": "393450cc-9a85-4243-be53-813933dcefc7",
   "metadata": {},
   "outputs": [
    {
     "name": "stdout",
     "output_type": "stream",
     "text": [
      "  Order Status  Order Count\n",
      "0    delivered        96478\n",
      "1      shipped         1107\n",
      "2     canceled          625\n",
      "3  unavailable          609\n",
      "4     invoiced          314\n",
      "5   processing          301\n",
      "6      created            5\n",
      "7     approved            2\n"
     ]
    }
   ],
   "source": [
    "#menghitung jumlah pesanan berdasarkan status\n",
    "order_status_counts = orders_df['order_status'].value_counts().reset_index()\n",
    "order_status_counts.columns = ['Order Status', 'Order Count']\n",
    "print(order_status_counts)"
   ]
  },
  {
   "cell_type": "code",
   "execution_count": 180,
   "id": "c0df8eae-529e-4905-9de6-518d673a496e",
   "metadata": {},
   "outputs": [
    {
     "name": "stdout",
     "output_type": "stream",
     "text": [
      "                               order_id order_purchase_timestamp  \\\n",
      "0      e481f51cbdc54678b7cc49136f2d6af7      2017-10-02 10:56:33   \n",
      "1      53cdb2fc8bc7dce0b6741e2150273451      2018-07-24 20:41:37   \n",
      "2      47770eb9100c2d0c44946d9cf07ec65d      2018-08-08 08:38:49   \n",
      "3      949d5b44dbf5de918fe9c16f97b45f8a      2017-11-18 19:28:06   \n",
      "4      ad21c59c0840e6cb83a9ceb5573f8159      2018-02-13 21:18:39   \n",
      "...                                 ...                      ...   \n",
      "99436  9c5dedf39a927c1b2549525ed64a053c      2017-03-09 09:54:05   \n",
      "99437  63943bddc261676b46f01ca7ac2f7bd8      2018-02-06 12:58:58   \n",
      "99438  83c1379a015df1e13d02aae0204711ab      2017-08-27 14:46:43   \n",
      "99439  11c177c8e97725db2631073c19f07b62      2018-01-08 21:28:27   \n",
      "99440  66dea50a8b16d9b4dee7af250b4be1a5      2018-03-08 20:57:30   \n",
      "\n",
      "      order_delivered_customer_date  delivery_time late_delivery  \n",
      "0               2017-10-10 21:25:13              8            No  \n",
      "1               2018-08-07 15:27:45             13            No  \n",
      "2               2018-08-17 18:06:29              9            No  \n",
      "3               2017-12-02 00:28:42             13            No  \n",
      "4               2018-02-16 18:17:02              2            No  \n",
      "...                             ...            ...           ...  \n",
      "99436           2017-03-17 15:08:01              8            No  \n",
      "99437           2018-02-28 17:37:56             22            No  \n",
      "99438           2017-09-21 11:24:17             24            No  \n",
      "99439           2018-01-25 23:32:54             17            No  \n",
      "99440           2018-03-16 13:08:30              7            No  \n",
      "\n",
      "[99441 rows x 5 columns]\n"
     ]
    }
   ],
   "source": [
    "# Menghitung waktu pengiriman berdasarkan estimasi (dalam hari)\n",
    "orders_df['delivery_time'] = (orders_df['order_delivered_customer_date'] - orders_df['order_purchase_timestamp']).dt.days\n",
    "\n",
    "# Menghitung keterlambatan pengiriman berdasarkan estimasi (dalam hari)\n",
    "orders_df['delay'] = (orders_df['order_delivered_customer_date'] - orders_df['order_estimated_delivery_date']).dt.days\n",
    "orders_df['late_delivery'] = orders_df['delay'].apply(lambda x: 'Yes' if x > 0 else 'No')\n",
    "\n",
    "print(orders_df[['order_id', 'order_purchase_timestamp', 'order_delivered_customer_date', 'delivery_time', 'late_delivery']])"
   ]
  },
  {
   "cell_type": "code",
   "execution_count": 181,
   "id": "31a621a8-2b8e-4463-9ae0-d25d34f82bae",
   "metadata": {},
   "outputs": [
    {
     "name": "stdout",
     "output_type": "stream",
     "text": [
      "Jumlah pesanan yang terlambat: 8202\n"
     ]
    }
   ],
   "source": [
    "# Menghitung jumlah pesanan yang mengalami keterlambatan\n",
    "num_late_orders = (orders_df['delay'] > 0).sum()\n",
    "\n",
    "# Menampilkan jumlah pesanan yang terlambat\n",
    "print(f\"Jumlah pesanan yang terlambat: {num_late_orders}\")"
   ]
  },
  {
   "cell_type": "markdown",
   "id": "371eb647-a183-45fd-bed9-a0231c18c46c",
   "metadata": {},
   "source": [
    "**insight order_df**\n",
    "terdapat 99441 pesanan dengan 8 status pesanan, yaitu delivered, shipped, canceled, unvailable, invoiced, processing, created, approved, dan terdapat 8202 pesanan terlambat dikirim"
   ]
  },
  {
   "cell_type": "markdown",
   "id": "637fbdc6-242e-463d-b889-6ae5f4363986",
   "metadata": {},
   "source": [
    "Mengeksploarsi data orders, orders_item_df, products_df, order_reviews_df, customer_df, seller_df"
   ]
  },
  {
   "cell_type": "code",
   "execution_count": 182,
   "id": "6ffcd2c5-355e-455a-baf1-5f70b3fd245b",
   "metadata": {
    "scrolled": true
   },
   "outputs": [
    {
     "data": {
      "text/html": [
       "<div>\n",
       "<style scoped>\n",
       "    .dataframe tbody tr th:only-of-type {\n",
       "        vertical-align: middle;\n",
       "    }\n",
       "\n",
       "    .dataframe tbody tr th {\n",
       "        vertical-align: top;\n",
       "    }\n",
       "\n",
       "    .dataframe thead th {\n",
       "        text-align: right;\n",
       "    }\n",
       "</style>\n",
       "<table border=\"1\" class=\"dataframe\">\n",
       "  <thead>\n",
       "    <tr style=\"text-align: right;\">\n",
       "      <th></th>\n",
       "      <th>order_id</th>\n",
       "      <th>customer_id</th>\n",
       "      <th>order_status</th>\n",
       "      <th>order_purchase_timestamp</th>\n",
       "      <th>order_approved_at</th>\n",
       "      <th>order_delivered_carrier_date</th>\n",
       "      <th>order_delivered_customer_date</th>\n",
       "      <th>order_estimated_delivery_date</th>\n",
       "      <th>delivery_time</th>\n",
       "      <th>delay</th>\n",
       "      <th>...</th>\n",
       "      <th>product_height_cm</th>\n",
       "      <th>product_width_cm</th>\n",
       "      <th>product_category_name_english</th>\n",
       "      <th>seller_city</th>\n",
       "      <th>seller_state</th>\n",
       "      <th>review_score</th>\n",
       "      <th>review_creation_date</th>\n",
       "      <th>payment_type</th>\n",
       "      <th>payment_installments</th>\n",
       "      <th>payment_value</th>\n",
       "    </tr>\n",
       "  </thead>\n",
       "  <tbody>\n",
       "    <tr>\n",
       "      <th>0</th>\n",
       "      <td>e481f51cbdc54678b7cc49136f2d6af7</td>\n",
       "      <td>9ef432eb6251297304e76186b10a928d</td>\n",
       "      <td>delivered</td>\n",
       "      <td>2017-10-02 10:56:33</td>\n",
       "      <td>2017-10-02 11:07:15</td>\n",
       "      <td>2017-10-04 19:55:00</td>\n",
       "      <td>2017-10-10 21:25:13</td>\n",
       "      <td>2017-10-18</td>\n",
       "      <td>8</td>\n",
       "      <td>-8</td>\n",
       "      <td>...</td>\n",
       "      <td>8.0</td>\n",
       "      <td>13.0</td>\n",
       "      <td>housewares</td>\n",
       "      <td>maua</td>\n",
       "      <td>SP</td>\n",
       "      <td>4.0</td>\n",
       "      <td>2017-10-11</td>\n",
       "      <td>credit_card</td>\n",
       "      <td>1</td>\n",
       "      <td>18.12</td>\n",
       "    </tr>\n",
       "    <tr>\n",
       "      <th>1</th>\n",
       "      <td>e481f51cbdc54678b7cc49136f2d6af7</td>\n",
       "      <td>9ef432eb6251297304e76186b10a928d</td>\n",
       "      <td>delivered</td>\n",
       "      <td>2017-10-02 10:56:33</td>\n",
       "      <td>2017-10-02 11:07:15</td>\n",
       "      <td>2017-10-04 19:55:00</td>\n",
       "      <td>2017-10-10 21:25:13</td>\n",
       "      <td>2017-10-18</td>\n",
       "      <td>8</td>\n",
       "      <td>-8</td>\n",
       "      <td>...</td>\n",
       "      <td>8.0</td>\n",
       "      <td>13.0</td>\n",
       "      <td>housewares</td>\n",
       "      <td>maua</td>\n",
       "      <td>SP</td>\n",
       "      <td>4.0</td>\n",
       "      <td>2017-10-11</td>\n",
       "      <td>voucher</td>\n",
       "      <td>1</td>\n",
       "      <td>2.00</td>\n",
       "    </tr>\n",
       "    <tr>\n",
       "      <th>2</th>\n",
       "      <td>e481f51cbdc54678b7cc49136f2d6af7</td>\n",
       "      <td>9ef432eb6251297304e76186b10a928d</td>\n",
       "      <td>delivered</td>\n",
       "      <td>2017-10-02 10:56:33</td>\n",
       "      <td>2017-10-02 11:07:15</td>\n",
       "      <td>2017-10-04 19:55:00</td>\n",
       "      <td>2017-10-10 21:25:13</td>\n",
       "      <td>2017-10-18</td>\n",
       "      <td>8</td>\n",
       "      <td>-8</td>\n",
       "      <td>...</td>\n",
       "      <td>8.0</td>\n",
       "      <td>13.0</td>\n",
       "      <td>housewares</td>\n",
       "      <td>maua</td>\n",
       "      <td>SP</td>\n",
       "      <td>4.0</td>\n",
       "      <td>2017-10-11</td>\n",
       "      <td>voucher</td>\n",
       "      <td>1</td>\n",
       "      <td>18.59</td>\n",
       "    </tr>\n",
       "    <tr>\n",
       "      <th>3</th>\n",
       "      <td>53cdb2fc8bc7dce0b6741e2150273451</td>\n",
       "      <td>b0830fb4747a6c6d20dea0b8c802d7ef</td>\n",
       "      <td>delivered</td>\n",
       "      <td>2018-07-24 20:41:37</td>\n",
       "      <td>2018-07-26 03:24:27</td>\n",
       "      <td>2018-07-26 14:31:00</td>\n",
       "      <td>2018-08-07 15:27:45</td>\n",
       "      <td>2018-08-13</td>\n",
       "      <td>13</td>\n",
       "      <td>-6</td>\n",
       "      <td>...</td>\n",
       "      <td>13.0</td>\n",
       "      <td>19.0</td>\n",
       "      <td>perfumery</td>\n",
       "      <td>belo horizonte</td>\n",
       "      <td>SP</td>\n",
       "      <td>4.0</td>\n",
       "      <td>2018-08-08</td>\n",
       "      <td>boleto</td>\n",
       "      <td>1</td>\n",
       "      <td>141.46</td>\n",
       "    </tr>\n",
       "    <tr>\n",
       "      <th>4</th>\n",
       "      <td>47770eb9100c2d0c44946d9cf07ec65d</td>\n",
       "      <td>41ce2a54c0b03bf3443c3d931a367089</td>\n",
       "      <td>delivered</td>\n",
       "      <td>2018-08-08 08:38:49</td>\n",
       "      <td>2018-08-08 08:55:23</td>\n",
       "      <td>2018-08-08 13:50:00</td>\n",
       "      <td>2018-08-17 18:06:29</td>\n",
       "      <td>2018-09-04</td>\n",
       "      <td>9</td>\n",
       "      <td>-18</td>\n",
       "      <td>...</td>\n",
       "      <td>19.0</td>\n",
       "      <td>21.0</td>\n",
       "      <td>auto</td>\n",
       "      <td>guariba</td>\n",
       "      <td>SP</td>\n",
       "      <td>5.0</td>\n",
       "      <td>2018-08-18</td>\n",
       "      <td>credit_card</td>\n",
       "      <td>3</td>\n",
       "      <td>179.12</td>\n",
       "    </tr>\n",
       "  </tbody>\n",
       "</table>\n",
       "<p>5 rows × 31 columns</p>\n",
       "</div>"
      ],
      "text/plain": [
       "                           order_id                       customer_id  \\\n",
       "0  e481f51cbdc54678b7cc49136f2d6af7  9ef432eb6251297304e76186b10a928d   \n",
       "1  e481f51cbdc54678b7cc49136f2d6af7  9ef432eb6251297304e76186b10a928d   \n",
       "2  e481f51cbdc54678b7cc49136f2d6af7  9ef432eb6251297304e76186b10a928d   \n",
       "3  53cdb2fc8bc7dce0b6741e2150273451  b0830fb4747a6c6d20dea0b8c802d7ef   \n",
       "4  47770eb9100c2d0c44946d9cf07ec65d  41ce2a54c0b03bf3443c3d931a367089   \n",
       "\n",
       "  order_status order_purchase_timestamp   order_approved_at  \\\n",
       "0    delivered      2017-10-02 10:56:33 2017-10-02 11:07:15   \n",
       "1    delivered      2017-10-02 10:56:33 2017-10-02 11:07:15   \n",
       "2    delivered      2017-10-02 10:56:33 2017-10-02 11:07:15   \n",
       "3    delivered      2018-07-24 20:41:37 2018-07-26 03:24:27   \n",
       "4    delivered      2018-08-08 08:38:49 2018-08-08 08:55:23   \n",
       "\n",
       "  order_delivered_carrier_date order_delivered_customer_date  \\\n",
       "0          2017-10-04 19:55:00           2017-10-10 21:25:13   \n",
       "1          2017-10-04 19:55:00           2017-10-10 21:25:13   \n",
       "2          2017-10-04 19:55:00           2017-10-10 21:25:13   \n",
       "3          2018-07-26 14:31:00           2018-08-07 15:27:45   \n",
       "4          2018-08-08 13:50:00           2018-08-17 18:06:29   \n",
       "\n",
       "  order_estimated_delivery_date  delivery_time  delay  ... product_height_cm  \\\n",
       "0                    2017-10-18              8     -8  ...               8.0   \n",
       "1                    2017-10-18              8     -8  ...               8.0   \n",
       "2                    2017-10-18              8     -8  ...               8.0   \n",
       "3                    2018-08-13             13     -6  ...              13.0   \n",
       "4                    2018-09-04              9    -18  ...              19.0   \n",
       "\n",
       "  product_width_cm product_category_name_english     seller_city seller_state  \\\n",
       "0             13.0                    housewares            maua           SP   \n",
       "1             13.0                    housewares            maua           SP   \n",
       "2             13.0                    housewares            maua           SP   \n",
       "3             19.0                     perfumery  belo horizonte           SP   \n",
       "4             21.0                          auto         guariba           SP   \n",
       "\n",
       "  review_score  review_creation_date  payment_type payment_installments  \\\n",
       "0          4.0            2017-10-11   credit_card                    1   \n",
       "1          4.0            2017-10-11       voucher                    1   \n",
       "2          4.0            2017-10-11       voucher                    1   \n",
       "3          4.0            2018-08-08        boleto                    1   \n",
       "4          5.0            2018-08-18   credit_card                    3   \n",
       "\n",
       "   payment_value  \n",
       "0          18.12  \n",
       "1           2.00  \n",
       "2          18.59  \n",
       "3         141.46  \n",
       "4         179.12  \n",
       "\n",
       "[5 rows x 31 columns]"
      ]
     },
     "execution_count": 182,
     "metadata": {},
     "output_type": "execute_result"
    }
   ],
   "source": [
    "customers_orders_df = pd.merge(orders_df, \n",
    "                               customers_df[['customer_id', 'customer_unique_id', 'customer_city', 'customer_state']], \n",
    "                               on='customer_id', \n",
    "                               how='inner')\n",
    "\n",
    "orders_items_df = pd.merge(customers_orders_df, \n",
    "                           order_items_df[['order_id', 'product_id', 'seller_id', 'price', 'freight_value']], \n",
    "                           on='order_id', \n",
    "                           how='inner')\n",
    "\n",
    "orders_products_df = pd.merge(orders_items_df, \n",
    "                              products_df[['product_id', 'product_category_name', 'product_weight_g', 'product_length_cm', 'product_height_cm', 'product_width_cm']], \n",
    "                              on='product_id', \n",
    "                              how='inner')\n",
    "\n",
    "orders_products_df = pd.merge(orders_products_df, \n",
    "                              products_category_df[['product_category_name', 'product_category_name_english']], \n",
    "                              on='product_category_name', \n",
    "                              how='left')\n",
    "\n",
    "orders_sellers_df = pd.merge(orders_products_df, \n",
    "                             sellers_df[['seller_id', 'seller_city', 'seller_state']], \n",
    "                             on='seller_id', \n",
    "                             how='inner')\n",
    "\n",
    "orders_reviews_df = pd.merge(orders_sellers_df, \n",
    "                             order_reviews_df[['order_id', 'review_score', 'review_creation_date']], \n",
    "                             on='order_id', \n",
    "                             how='left')\n",
    "final_df = pd.merge(orders_reviews_df, \n",
    "                    order_payments_df[['order_id', 'payment_type', 'payment_installments', 'payment_value']], \n",
    "                    on='order_id', \n",
    "                    how='inner')\n",
    "\n",
    "final_orders_df = pd.merge(orders_reviews_df, \n",
    "                    order_payments_df[['order_id', 'payment_type', 'payment_installments', 'payment_value']], \n",
    "                    on='order_id', \n",
    "                    how='inner')\n",
    "\n",
    "\n",
    "final_orders_df.head()"
   ]
  },
  {
   "cell_type": "code",
   "execution_count": 183,
   "id": "3384be2a-f89f-4e3a-9d10-5d4005a4c9ca",
   "metadata": {},
   "outputs": [
    {
     "name": "stdout",
     "output_type": "stream",
     "text": [
      "Price Category Analysis\n"
     ]
    },
    {
     "data": {
      "text/html": [
       "<div>\n",
       "<style scoped>\n",
       "    .dataframe tbody tr th:only-of-type {\n",
       "        vertical-align: middle;\n",
       "    }\n",
       "\n",
       "    .dataframe tbody tr th {\n",
       "        vertical-align: top;\n",
       "    }\n",
       "\n",
       "    .dataframe thead tr th {\n",
       "        text-align: left;\n",
       "    }\n",
       "</style>\n",
       "<table border=\"1\" class=\"dataframe\">\n",
       "  <thead>\n",
       "    <tr>\n",
       "      <th></th>\n",
       "      <th>price_category</th>\n",
       "      <th colspan=\"2\" halign=\"left\">price</th>\n",
       "      <th>freight_value</th>\n",
       "      <th>product_id</th>\n",
       "    </tr>\n",
       "    <tr>\n",
       "      <th></th>\n",
       "      <th></th>\n",
       "      <th>mean</th>\n",
       "      <th>count</th>\n",
       "      <th>mean</th>\n",
       "      <th>nunique</th>\n",
       "    </tr>\n",
       "  </thead>\n",
       "  <tbody>\n",
       "    <tr>\n",
       "      <th>0</th>\n",
       "      <td>Murah</td>\n",
       "      <td>30.894077</td>\n",
       "      <td>40178</td>\n",
       "      <td>14.776478</td>\n",
       "      <td>11240</td>\n",
       "    </tr>\n",
       "    <tr>\n",
       "      <th>1</th>\n",
       "      <td>Sedang</td>\n",
       "      <td>75.907532</td>\n",
       "      <td>37962</td>\n",
       "      <td>17.933874</td>\n",
       "      <td>9744</td>\n",
       "    </tr>\n",
       "    <tr>\n",
       "      <th>2</th>\n",
       "      <td>Mahal</td>\n",
       "      <td>252.712444</td>\n",
       "      <td>40167</td>\n",
       "      <td>27.274332</td>\n",
       "      <td>12778</td>\n",
       "    </tr>\n",
       "  </tbody>\n",
       "</table>\n",
       "</div>"
      ],
      "text/plain": [
       "  price_category       price        freight_value product_id\n",
       "                        mean  count          mean    nunique\n",
       "0          Murah   30.894077  40178     14.776478      11240\n",
       "1         Sedang   75.907532  37962     17.933874       9744\n",
       "2          Mahal  252.712444  40167     27.274332      12778"
      ]
     },
     "execution_count": 183,
     "metadata": {},
     "output_type": "execute_result"
    }
   ],
   "source": [
    "price_bins = pd.qcut(final_df['price'], q=[0, 0.33, 0.66, 1], labels=['Murah', 'Sedang', 'Mahal'])\n",
    "final_orders_df['price_category'] = price_bins\n",
    "price_analysis = final_orders_df.groupby('price_category', observed=False).agg({\n",
    "    'price': ['mean', 'count'],\n",
    "    'freight_value': 'mean',\n",
    "    'product_id': 'nunique'\n",
    "}).reset_index()\n",
    "\n",
    "print(\"Price Category Analysis\")\n",
    "price_analysis.head()\n"
   ]
  },
  {
   "cell_type": "code",
   "execution_count": 184,
   "id": "ea663cbd-f541-4b09-9821-a1703157bdd9",
   "metadata": {
    "scrolled": true
   },
   "outputs": [
    {
     "name": "stdout",
     "output_type": "stream",
     "text": [
      "\n",
      "Weight Category Analysis\n"
     ]
    },
    {
     "data": {
      "text/html": [
       "<div>\n",
       "<style scoped>\n",
       "    .dataframe tbody tr th:only-of-type {\n",
       "        vertical-align: middle;\n",
       "    }\n",
       "\n",
       "    .dataframe tbody tr th {\n",
       "        vertical-align: top;\n",
       "    }\n",
       "\n",
       "    .dataframe thead th {\n",
       "        text-align: right;\n",
       "    }\n",
       "</style>\n",
       "<table border=\"1\" class=\"dataframe\">\n",
       "  <thead>\n",
       "    <tr style=\"text-align: right;\">\n",
       "      <th></th>\n",
       "      <th>weight_category</th>\n",
       "      <th>product_weight_g</th>\n",
       "      <th>freight_value</th>\n",
       "      <th>product_id</th>\n",
       "    </tr>\n",
       "  </thead>\n",
       "  <tbody>\n",
       "    <tr>\n",
       "      <th>0</th>\n",
       "      <td>Ringan</td>\n",
       "      <td>233.849330</td>\n",
       "      <td>15.074232</td>\n",
       "      <td>11338</td>\n",
       "    </tr>\n",
       "    <tr>\n",
       "      <th>1</th>\n",
       "      <td>Sedang</td>\n",
       "      <td>775.789488</td>\n",
       "      <td>17.222494</td>\n",
       "      <td>10880</td>\n",
       "    </tr>\n",
       "    <tr>\n",
       "      <th>2</th>\n",
       "      <td>Berat</td>\n",
       "      <td>5338.237302</td>\n",
       "      <td>27.903606</td>\n",
       "      <td>10733</td>\n",
       "    </tr>\n",
       "  </tbody>\n",
       "</table>\n",
       "</div>"
      ],
      "text/plain": [
       "  weight_category  product_weight_g  freight_value  product_id\n",
       "0          Ringan        233.849330      15.074232       11338\n",
       "1          Sedang        775.789488      17.222494       10880\n",
       "2           Berat       5338.237302      27.903606       10733"
      ]
     },
     "execution_count": 184,
     "metadata": {},
     "output_type": "execute_result"
    }
   ],
   "source": [
    "weight_bins = pd.qcut(final_df['product_weight_g'], q=[0, 0.33, 0.66, 1], labels=['Ringan', 'Sedang', 'Berat'])\n",
    "final_orders_df['weight_category'] = weight_bins\n",
    "weight_analysis = final_orders_df.groupby('weight_category', observed=False).agg({\n",
    "    'product_weight_g': 'mean',\n",
    "    'freight_value': 'mean',\n",
    "    'product_id': 'nunique'\n",
    "}).reset_index()\n",
    "\n",
    "print(\"\\nWeight Category Analysis\")\n",
    "weight_analysis.head()"
   ]
  },
  {
   "cell_type": "code",
   "execution_count": 185,
   "id": "ab87f2f2-ad63-4a5f-bf33-a0496f8bf0ff",
   "metadata": {},
   "outputs": [
    {
     "name": "stdout",
     "output_type": "stream",
     "text": [
      "Product Frequency:\n",
      "                          product_id  frequency\n",
      "0  aca2eb7d00ea1a7b8ebd4e68314663af        536\n",
      "1  99a4788cb24856965c36a24e339b6058        528\n",
      "2  422879e10f46682990de24d770e7f83d        508\n",
      "3  389d119b48cf3043d311335e499d9c6b        406\n",
      "4  368c6c730842d78016ad823897a372db        398\n",
      "\n",
      "Sales Frequency Category Analysis\n",
      "  sales_frequency_category  product_id       price   frequency\n",
      "0            Jarang Dibeli       27753  143.806163    2.087252\n",
      "1            Kadang Dibeli        4310  114.819976    9.412387\n",
      "2            Sering Dibeli         888   99.723419  103.481811\n"
     ]
    }
   ],
   "source": [
    "\n",
    "product_freq = final_orders_df['product_id'].value_counts().reset_index()\n",
    "product_freq.columns = ['product_id', 'frequency']\n",
    "\n",
    "print(\"Product Frequency:\\n\", product_freq.head())\n",
    "\n",
    "final_orders_df = pd.merge(final_orders_df, product_freq, on='product_id', how='left', suffixes=('', '_freq'))\n",
    "\n",
    "freq_bins = pd.qcut(final_orders_df['frequency'], q=[0, 0.33, 0.66, 1], labels=['Jarang Dibeli', 'Kadang Dibeli', 'Sering Dibeli'])\n",
    "final_orders_df['sales_frequency_category'] = freq_bins\n",
    "\n",
    "sales_freq_analysis = final_orders_df.groupby('sales_frequency_category', observed=True).agg({\n",
    "    'product_id': 'nunique',\n",
    "    'price': 'mean',\n",
    "    'frequency': 'mean'  \n",
    "}).reset_index()\n",
    "\n",
    "print(\"\\nSales Frequency Category Analysis\")\n",
    "print(sales_freq_analysis)\n"
   ]
  },
  {
   "cell_type": "markdown",
   "id": "45a7d0d2-eb86-4be3-a56a-07627ff0fae0",
   "metadata": {},
   "source": [
    "**Insight**:\n",
    "diperoleh hasil berdasarkan ekspolrasi data di atas yaitu \n",
    "- produk yang paling sering dibelu memiliki harga yang lebih rendah dibanding kan produk yang jarang dibeli yaitu dengan rata-rata harga 99,72, hal ini menjukkan bahwa produk murah cenderung diminati oleh pelanggan\n",
    "- produk dengan kategori jarang dibeli memiliki frekuensi rata-rata sebanyak 2 kali sehingga produk tersebut masih perlu untuk diperhatika dan ditingkatkalagi strategi pemasarannya"
   ]
  },
  {
   "cell_type": "code",
   "execution_count": 186,
   "id": "bfa2f38c-7fa7-4676-a0fb-0c38c36bf3c3",
   "metadata": {},
   "outputs": [
    {
     "name": "stdout",
     "output_type": "stream",
     "text": [
      "\n",
      "Seller Analysis based on Sales Frequency\n",
      "                             seller_id sales_frequency_category      price  \\\n",
      "0     0015a82c2db000af6aaaf3ae2ecb0532            Jarang Dibeli  895.00000   \n",
      "1     0015a82c2db000af6aaaf3ae2ecb0532            Kadang Dibeli        NaN   \n",
      "2     0015a82c2db000af6aaaf3ae2ecb0532            Sering Dibeli        NaN   \n",
      "3     001cca7ae9ae17fb1caed9dfb1094831            Jarang Dibeli  110.53750   \n",
      "4     001cca7ae9ae17fb1caed9dfb1094831            Kadang Dibeli  112.96075   \n",
      "...                                ...                      ...        ...   \n",
      "9280  fffd5413c0700ac820c7069d66d98c89            Kadang Dibeli  212.76875   \n",
      "9281  fffd5413c0700ac820c7069d66d98c89            Sering Dibeli        NaN   \n",
      "9282  ffff564a4f9085cd26170f4732393726            Jarang Dibeli   71.31500   \n",
      "9283  ffff564a4f9085cd26170f4732393726            Kadang Dibeli        NaN   \n",
      "9284  ffff564a4f9085cd26170f4732393726            Sering Dibeli        NaN   \n",
      "\n",
      "      freight_value  product_id  \n",
      "0          21.02000           1  \n",
      "1               NaN           0  \n",
      "2               NaN           0  \n",
      "3          36.21375           5  \n",
      "4          44.13950           3  \n",
      "...             ...         ...  \n",
      "9280       81.48750           3  \n",
      "9281            NaN           0  \n",
      "9282       17.22800          15  \n",
      "9283            NaN           0  \n",
      "9284            NaN           0  \n",
      "\n",
      "[9285 rows x 5 columns]\n"
     ]
    }
   ],
   "source": [
    "seller_analysis = final_orders_df.groupby(['seller_id', 'sales_frequency_category'], observed=False).agg({\n",
    "    'price': 'mean',\n",
    "    'freight_value': 'mean',\n",
    "    'product_id': 'nunique'\n",
    "}).reset_index()\n",
    "\n",
    "print(\"\\nSeller Analysis based on Sales Frequency\")\n",
    "print(seller_analysis)"
   ]
  },
  {
   "cell_type": "code",
   "execution_count": 187,
   "id": "414ce502-7eb4-4da5-8ec4-1399e7a12d9d",
   "metadata": {},
   "outputs": [
    {
     "name": "stdout",
     "output_type": "stream",
     "text": [
      "\n",
      "Top 5 Sellers by Sales Frequency with Price and Freight Categories:\n"
     ]
    },
    {
     "data": {
      "text/html": [
       "<div>\n",
       "<style scoped>\n",
       "    .dataframe tbody tr th:only-of-type {\n",
       "        vertical-align: middle;\n",
       "    }\n",
       "\n",
       "    .dataframe tbody tr th {\n",
       "        vertical-align: top;\n",
       "    }\n",
       "\n",
       "    .dataframe thead th {\n",
       "        text-align: right;\n",
       "    }\n",
       "</style>\n",
       "<table border=\"1\" class=\"dataframe\">\n",
       "  <thead>\n",
       "    <tr style=\"text-align: right;\">\n",
       "      <th></th>\n",
       "      <th>seller_id</th>\n",
       "      <th>sales_frequency</th>\n",
       "      <th>price_category</th>\n",
       "      <th>freight_category</th>\n",
       "    </tr>\n",
       "  </thead>\n",
       "  <tbody>\n",
       "    <tr>\n",
       "      <th>881</th>\n",
       "      <td>4a3ca9315b744ce9f8e9374361493884</td>\n",
       "      <td>2155</td>\n",
       "      <td>Rendah</td>\n",
       "      <td>Sedang</td>\n",
       "    </tr>\n",
       "    <tr>\n",
       "      <th>1235</th>\n",
       "      <td>6560211a19b47992c3666cc44a7e94c0</td>\n",
       "      <td>2130</td>\n",
       "      <td>Sedang</td>\n",
       "      <td>Murah</td>\n",
       "    </tr>\n",
       "    <tr>\n",
       "      <th>368</th>\n",
       "      <td>1f50f920176fa81dab994f9023523100</td>\n",
       "      <td>2017</td>\n",
       "      <td>Rendah</td>\n",
       "      <td>Murah</td>\n",
       "    </tr>\n",
       "    <tr>\n",
       "      <th>2481</th>\n",
       "      <td>cc419e0650a3c5ba77189a1882b7556a</td>\n",
       "      <td>1893</td>\n",
       "      <td>Sedang</td>\n",
       "      <td>Murah</td>\n",
       "    </tr>\n",
       "    <tr>\n",
       "      <th>2643</th>\n",
       "      <td>da8622b14eb17ae2831f4ac5b9dab84a</td>\n",
       "      <td>1662</td>\n",
       "      <td>Tinggi</td>\n",
       "      <td>Murah</td>\n",
       "    </tr>\n",
       "  </tbody>\n",
       "</table>\n",
       "</div>"
      ],
      "text/plain": [
       "                             seller_id  sales_frequency price_category  \\\n",
       "881   4a3ca9315b744ce9f8e9374361493884             2155         Rendah   \n",
       "1235  6560211a19b47992c3666cc44a7e94c0             2130         Sedang   \n",
       "368   1f50f920176fa81dab994f9023523100             2017         Rendah   \n",
       "2481  cc419e0650a3c5ba77189a1882b7556a             1893         Sedang   \n",
       "2643  da8622b14eb17ae2831f4ac5b9dab84a             1662         Tinggi   \n",
       "\n",
       "     freight_category  \n",
       "881            Sedang  \n",
       "1235            Murah  \n",
       "368             Murah  \n",
       "2481            Murah  \n",
       "2643            Murah  "
      ]
     },
     "execution_count": 187,
     "metadata": {},
     "output_type": "execute_result"
    }
   ],
   "source": [
    "def categorize_price(row):\n",
    "    if row['price'] < 50:\n",
    "        return 'Rendah'\n",
    "    elif 50 <= row['price'] < 150:\n",
    "        return 'Sedang'\n",
    "    else:\n",
    "        return 'Tinggi'\n",
    "\n",
    "final_orders_df['price_category'] = final_orders_df.apply(categorize_price, axis=1)\n",
    "\n",
    "def categorize_freight(row):\n",
    "    if row['freight_value'] < 20:\n",
    "        return 'Murah'\n",
    "    elif 20 <= row['freight_value'] < 50:\n",
    "        return 'Sedang'\n",
    "    else:\n",
    "        return 'Mahal'\n",
    "\n",
    "final_orders_df['freight_category'] = final_orders_df.apply(categorize_freight, axis=1)\n",
    "\n",
    "seller_summary = (final_orders_df.groupby('seller_id')\n",
    "                  .agg(sales_frequency=('seller_id', 'count'),\n",
    "                       price_category=('price_category', 'first'),\n",
    "                       freight_category=('freight_category', 'first'))\n",
    "                  .reset_index())\n",
    "\n",
    "top_sellers = seller_summary.sort_values(by='sales_frequency', ascending=False).head(5)\n",
    "\n",
    "print(\"\\nTop 5 Sellers by Sales Frequency with Price and Freight Categories:\")\n",
    "top_sellers.head()\n"
   ]
  },
  {
   "cell_type": "markdown",
   "id": "fa7db832-34be-4f4a-aceb-d6cfb3fb3a2f",
   "metadata": {},
   "source": [
    "**Insight** hasil analisis di atas merupakan analisis dengan mengategorikan penjual berdasarkan frekuensi penjualannya, terdapat 5 penjual tertinggi dengan hasil: penjual yang memiliki frekuensi tertinggi (sering dibeli) adalah penjual dengan harga dan pengiriman yang cenderung murah dan rendah"
   ]
  },
  {
   "cell_type": "markdown",
   "id": "0966e39a-77a3-4c0d-b087-bf9a88ffeddb",
   "metadata": {},
   "source": [
    "Mengeksploarsi data yang bergubungan dengan review order dengan menggabungkan order_item_df, order_review_df, product_df, product_category_df"
   ]
  },
  {
   "cell_type": "code",
   "execution_count": 188,
   "id": "720402a8-af90-49a0-97ca-45d157e996a1",
   "metadata": {},
   "outputs": [
    {
     "data": {
      "text/html": [
       "<div>\n",
       "<style scoped>\n",
       "    .dataframe tbody tr th:only-of-type {\n",
       "        vertical-align: middle;\n",
       "    }\n",
       "\n",
       "    .dataframe tbody tr th {\n",
       "        vertical-align: top;\n",
       "    }\n",
       "\n",
       "    .dataframe thead th {\n",
       "        text-align: right;\n",
       "    }\n",
       "</style>\n",
       "<table border=\"1\" class=\"dataframe\">\n",
       "  <thead>\n",
       "    <tr style=\"text-align: right;\">\n",
       "      <th></th>\n",
       "      <th>order_id</th>\n",
       "      <th>order_item_id</th>\n",
       "      <th>product_id</th>\n",
       "      <th>seller_id</th>\n",
       "      <th>shipping_limit_date</th>\n",
       "      <th>price</th>\n",
       "      <th>freight_value</th>\n",
       "      <th>product_category_name</th>\n",
       "      <th>review_score</th>\n",
       "      <th>product_category_name_english</th>\n",
       "    </tr>\n",
       "  </thead>\n",
       "  <tbody>\n",
       "    <tr>\n",
       "      <th>0</th>\n",
       "      <td>00010242fe8c5a6d1ba2dd792cb16214</td>\n",
       "      <td>1</td>\n",
       "      <td>4244733e06e7ecb4970a6e2683c13e61</td>\n",
       "      <td>48436dade18ac8b2bce089ec2a041202</td>\n",
       "      <td>2017-09-19 09:45:35</td>\n",
       "      <td>58.90</td>\n",
       "      <td>13.29</td>\n",
       "      <td>cool_stuff</td>\n",
       "      <td>5.0</td>\n",
       "      <td>cool_stuff</td>\n",
       "    </tr>\n",
       "    <tr>\n",
       "      <th>1</th>\n",
       "      <td>00018f77f2f0320c557190d7a144bdd3</td>\n",
       "      <td>1</td>\n",
       "      <td>e5f2d52b802189ee658865ca93d83a8f</td>\n",
       "      <td>dd7ddc04e1b6c2c614352b383efe2d36</td>\n",
       "      <td>2017-05-03 11:05:13</td>\n",
       "      <td>239.90</td>\n",
       "      <td>19.93</td>\n",
       "      <td>pet_shop</td>\n",
       "      <td>4.0</td>\n",
       "      <td>pet_shop</td>\n",
       "    </tr>\n",
       "    <tr>\n",
       "      <th>2</th>\n",
       "      <td>000229ec398224ef6ca0657da4fc703e</td>\n",
       "      <td>1</td>\n",
       "      <td>c777355d18b72b67abbeef9df44fd0fd</td>\n",
       "      <td>5b51032eddd242adc84c38acab88f23d</td>\n",
       "      <td>2018-01-18 14:48:30</td>\n",
       "      <td>199.00</td>\n",
       "      <td>17.87</td>\n",
       "      <td>moveis_decoracao</td>\n",
       "      <td>5.0</td>\n",
       "      <td>furniture_decor</td>\n",
       "    </tr>\n",
       "    <tr>\n",
       "      <th>3</th>\n",
       "      <td>00024acbcdf0a6daa1e931b038114c75</td>\n",
       "      <td>1</td>\n",
       "      <td>7634da152a4610f1595efa32f14722fc</td>\n",
       "      <td>9d7a1d34a5052409006425275ba1c2b4</td>\n",
       "      <td>2018-08-15 10:10:18</td>\n",
       "      <td>12.99</td>\n",
       "      <td>12.79</td>\n",
       "      <td>perfumaria</td>\n",
       "      <td>4.0</td>\n",
       "      <td>perfumery</td>\n",
       "    </tr>\n",
       "    <tr>\n",
       "      <th>4</th>\n",
       "      <td>00042b26cf59d7ce69dfabb4e55b4fd9</td>\n",
       "      <td>1</td>\n",
       "      <td>ac6c3623068f30de03045865e4e10089</td>\n",
       "      <td>df560393f3a51e74553ab94004ba5c87</td>\n",
       "      <td>2017-02-13 13:57:51</td>\n",
       "      <td>199.90</td>\n",
       "      <td>18.14</td>\n",
       "      <td>ferramentas_jardim</td>\n",
       "      <td>5.0</td>\n",
       "      <td>garden_tools</td>\n",
       "    </tr>\n",
       "  </tbody>\n",
       "</table>\n",
       "</div>"
      ],
      "text/plain": [
       "                           order_id  order_item_id  \\\n",
       "0  00010242fe8c5a6d1ba2dd792cb16214              1   \n",
       "1  00018f77f2f0320c557190d7a144bdd3              1   \n",
       "2  000229ec398224ef6ca0657da4fc703e              1   \n",
       "3  00024acbcdf0a6daa1e931b038114c75              1   \n",
       "4  00042b26cf59d7ce69dfabb4e55b4fd9              1   \n",
       "\n",
       "                         product_id                         seller_id  \\\n",
       "0  4244733e06e7ecb4970a6e2683c13e61  48436dade18ac8b2bce089ec2a041202   \n",
       "1  e5f2d52b802189ee658865ca93d83a8f  dd7ddc04e1b6c2c614352b383efe2d36   \n",
       "2  c777355d18b72b67abbeef9df44fd0fd  5b51032eddd242adc84c38acab88f23d   \n",
       "3  7634da152a4610f1595efa32f14722fc  9d7a1d34a5052409006425275ba1c2b4   \n",
       "4  ac6c3623068f30de03045865e4e10089  df560393f3a51e74553ab94004ba5c87   \n",
       "\n",
       "  shipping_limit_date   price  freight_value product_category_name  \\\n",
       "0 2017-09-19 09:45:35   58.90          13.29            cool_stuff   \n",
       "1 2017-05-03 11:05:13  239.90          19.93              pet_shop   \n",
       "2 2018-01-18 14:48:30  199.00          17.87      moveis_decoracao   \n",
       "3 2018-08-15 10:10:18   12.99          12.79            perfumaria   \n",
       "4 2017-02-13 13:57:51  199.90          18.14    ferramentas_jardim   \n",
       "\n",
       "   review_score product_category_name_english  \n",
       "0           5.0                    cool_stuff  \n",
       "1           4.0                      pet_shop  \n",
       "2           5.0               furniture_decor  \n",
       "3           4.0                     perfumery  \n",
       "4           5.0                  garden_tools  "
      ]
     },
     "execution_count": 188,
     "metadata": {},
     "output_type": "execute_result"
    }
   ],
   "source": [
    "items_products_df = pd.merge(\n",
    "    order_items_df,\n",
    "    products_df[['product_id', 'product_category_name']],\n",
    "    on='product_id',\n",
    "    how='left'\n",
    ")\n",
    "\n",
    "review_item_product_df = pd.merge(\n",
    "    items_products_df,\n",
    "    order_reviews_df[['order_id', 'review_score']],\n",
    "    on='order_id',\n",
    "    how='left'\n",
    ")\n",
    "\n",
    "# Menggabungkan dengan kategori produk untuk mendapatkan terjemahan\n",
    "review_product_df = pd.merge(\n",
    "    review_item_product_df,\n",
    "    products_category_df[['product_category_name', 'product_category_name_english']],\n",
    "    on='product_category_name',\n",
    "    how='left'\n",
    ")\n",
    "\n",
    "review_product_df.head()"
   ]
  },
  {
   "cell_type": "code",
   "execution_count": 189,
   "id": "3e65e5fe-080d-4ba4-9931-9daf9ceb31cb",
   "metadata": {},
   "outputs": [
    {
     "data": {
      "text/html": [
       "<div>\n",
       "<style scoped>\n",
       "    .dataframe tbody tr th:only-of-type {\n",
       "        vertical-align: middle;\n",
       "    }\n",
       "\n",
       "    .dataframe tbody tr th {\n",
       "        vertical-align: top;\n",
       "    }\n",
       "\n",
       "    .dataframe thead th {\n",
       "        text-align: right;\n",
       "    }\n",
       "</style>\n",
       "<table border=\"1\" class=\"dataframe\">\n",
       "  <thead>\n",
       "    <tr style=\"text-align: right;\">\n",
       "      <th></th>\n",
       "      <th>product_category_name</th>\n",
       "      <th>average_review_score</th>\n",
       "      <th>total_reviews</th>\n",
       "      <th>total_revenue</th>\n",
       "    </tr>\n",
       "  </thead>\n",
       "  <tbody>\n",
       "    <tr>\n",
       "      <th>11</th>\n",
       "      <td>beleza_saude</td>\n",
       "      <td>4.142768</td>\n",
       "      <td>9645</td>\n",
       "      <td>1263138.54</td>\n",
       "    </tr>\n",
       "    <tr>\n",
       "      <th>66</th>\n",
       "      <td>relogios_presentes</td>\n",
       "      <td>4.019160</td>\n",
       "      <td>5950</td>\n",
       "      <td>1206075.33</td>\n",
       "    </tr>\n",
       "    <tr>\n",
       "      <th>13</th>\n",
       "      <td>cama_mesa_banho</td>\n",
       "      <td>3.895663</td>\n",
       "      <td>11137</td>\n",
       "      <td>1050936.61</td>\n",
       "    </tr>\n",
       "    <tr>\n",
       "      <th>32</th>\n",
       "      <td>esporte_lazer</td>\n",
       "      <td>4.107986</td>\n",
       "      <td>8640</td>\n",
       "      <td>993656.51</td>\n",
       "    </tr>\n",
       "    <tr>\n",
       "      <th>44</th>\n",
       "      <td>informatica_acessorios</td>\n",
       "      <td>3.930819</td>\n",
       "      <td>7849</td>\n",
       "      <td>919640.54</td>\n",
       "    </tr>\n",
       "  </tbody>\n",
       "</table>\n",
       "</div>"
      ],
      "text/plain": [
       "     product_category_name  average_review_score  total_reviews  total_revenue\n",
       "11            beleza_saude              4.142768           9645     1263138.54\n",
       "66      relogios_presentes              4.019160           5950     1206075.33\n",
       "13         cama_mesa_banho              3.895663          11137     1050936.61\n",
       "32           esporte_lazer              4.107986           8640      993656.51\n",
       "44  informatica_acessorios              3.930819           7849      919640.54"
      ]
     },
     "execution_count": 189,
     "metadata": {},
     "output_type": "execute_result"
    }
   ],
   "source": [
    "category_analysis = review_product_df.groupby('product_category_name').agg(\n",
    "    average_review_score=('review_score', 'mean'),   \n",
    "    total_reviews=('review_score', 'count'),          \n",
    "    total_revenue=('price', 'sum')                    \n",
    ").reset_index()\n",
    "\n",
    "category_analysis = category_analysis.sort_values(by='total_revenue', ascending=False)\n",
    "\n",
    "category_analysis.head()"
   ]
  },
  {
   "cell_type": "code",
   "execution_count": 190,
   "id": "9b72f3dc-ef17-4af4-9f08-b307ede24854",
   "metadata": {},
   "outputs": [
    {
     "data": {
      "text/html": [
       "<div>\n",
       "<style scoped>\n",
       "    .dataframe tbody tr th:only-of-type {\n",
       "        vertical-align: middle;\n",
       "    }\n",
       "\n",
       "    .dataframe tbody tr th {\n",
       "        vertical-align: top;\n",
       "    }\n",
       "\n",
       "    .dataframe thead th {\n",
       "        text-align: right;\n",
       "    }\n",
       "</style>\n",
       "<table border=\"1\" class=\"dataframe\">\n",
       "  <thead>\n",
       "    <tr style=\"text-align: right;\">\n",
       "      <th></th>\n",
       "      <th>product_category_name</th>\n",
       "      <th>average_review_score</th>\n",
       "      <th>total_reviews</th>\n",
       "      <th>total_revenue</th>\n",
       "      <th>product_category_name_english</th>\n",
       "    </tr>\n",
       "  </thead>\n",
       "  <tbody>\n",
       "    <tr>\n",
       "      <th>0</th>\n",
       "      <td>beleza_saude</td>\n",
       "      <td>4.142768</td>\n",
       "      <td>9645</td>\n",
       "      <td>1263138.54</td>\n",
       "      <td>health_beauty</td>\n",
       "    </tr>\n",
       "    <tr>\n",
       "      <th>1</th>\n",
       "      <td>relogios_presentes</td>\n",
       "      <td>4.019160</td>\n",
       "      <td>5950</td>\n",
       "      <td>1206075.33</td>\n",
       "      <td>watches_gifts</td>\n",
       "    </tr>\n",
       "    <tr>\n",
       "      <th>2</th>\n",
       "      <td>cama_mesa_banho</td>\n",
       "      <td>3.895663</td>\n",
       "      <td>11137</td>\n",
       "      <td>1050936.61</td>\n",
       "      <td>bed_bath_table</td>\n",
       "    </tr>\n",
       "    <tr>\n",
       "      <th>3</th>\n",
       "      <td>esporte_lazer</td>\n",
       "      <td>4.107986</td>\n",
       "      <td>8640</td>\n",
       "      <td>993656.51</td>\n",
       "      <td>sports_leisure</td>\n",
       "    </tr>\n",
       "    <tr>\n",
       "      <th>4</th>\n",
       "      <td>informatica_acessorios</td>\n",
       "      <td>3.930819</td>\n",
       "      <td>7849</td>\n",
       "      <td>919640.54</td>\n",
       "      <td>computers_accessories</td>\n",
       "    </tr>\n",
       "  </tbody>\n",
       "</table>\n",
       "</div>"
      ],
      "text/plain": [
       "    product_category_name  average_review_score  total_reviews  total_revenue  \\\n",
       "0            beleza_saude              4.142768           9645     1263138.54   \n",
       "1      relogios_presentes              4.019160           5950     1206075.33   \n",
       "2         cama_mesa_banho              3.895663          11137     1050936.61   \n",
       "3           esporte_lazer              4.107986           8640      993656.51   \n",
       "4  informatica_acessorios              3.930819           7849      919640.54   \n",
       "\n",
       "  product_category_name_english  \n",
       "0                 health_beauty  \n",
       "1                 watches_gifts  \n",
       "2                bed_bath_table  \n",
       "3                sports_leisure  \n",
       "4         computers_accessories  "
      ]
     },
     "execution_count": 190,
     "metadata": {},
     "output_type": "execute_result"
    }
   ],
   "source": [
    "category_analysis_with_translation = category_analysis.merge(\n",
    "    products_category_df[['product_category_name', 'product_category_name_english']],\n",
    "    on='product_category_name',\n",
    "    how='left'\n",
    ")\n",
    "\n",
    "category_analysis_with_translation = category_analysis_with_translation.sort_values(by='total_revenue', ascending=False)\n",
    "\n",
    "category_analysis_with_translation.head(5)\n"
   ]
  },
  {
   "cell_type": "code",
   "execution_count": 191,
   "id": "7203598d-fce4-4bbc-a34d-608e96390fff",
   "metadata": {},
   "outputs": [
    {
     "data": {
      "text/html": [
       "<div>\n",
       "<style scoped>\n",
       "    .dataframe tbody tr th:only-of-type {\n",
       "        vertical-align: middle;\n",
       "    }\n",
       "\n",
       "    .dataframe tbody tr th {\n",
       "        vertical-align: top;\n",
       "    }\n",
       "\n",
       "    .dataframe thead th {\n",
       "        text-align: right;\n",
       "    }\n",
       "</style>\n",
       "<table border=\"1\" class=\"dataframe\">\n",
       "  <thead>\n",
       "    <tr style=\"text-align: right;\">\n",
       "      <th></th>\n",
       "      <th>product_category_name</th>\n",
       "      <th>average_review_score</th>\n",
       "      <th>total_reviews</th>\n",
       "    </tr>\n",
       "  </thead>\n",
       "  <tbody>\n",
       "    <tr>\n",
       "      <th>17</th>\n",
       "      <td>cds_dvds_musicais</td>\n",
       "      <td>4.642857</td>\n",
       "      <td>14</td>\n",
       "    </tr>\n",
       "    <tr>\n",
       "      <th>37</th>\n",
       "      <td>fashion_roupa_infanto_juvenil</td>\n",
       "      <td>4.500000</td>\n",
       "      <td>8</td>\n",
       "    </tr>\n",
       "    <tr>\n",
       "      <th>48</th>\n",
       "      <td>livros_interesse_geral</td>\n",
       "      <td>4.446266</td>\n",
       "      <td>549</td>\n",
       "    </tr>\n",
       "    <tr>\n",
       "      <th>22</th>\n",
       "      <td>construcao_ferramentas_ferramentas</td>\n",
       "      <td>4.444444</td>\n",
       "      <td>99</td>\n",
       "    </tr>\n",
       "    <tr>\n",
       "      <th>41</th>\n",
       "      <td>flores</td>\n",
       "      <td>4.419355</td>\n",
       "      <td>31</td>\n",
       "    </tr>\n",
       "  </tbody>\n",
       "</table>\n",
       "</div>"
      ],
      "text/plain": [
       "                 product_category_name  average_review_score  total_reviews\n",
       "17                   cds_dvds_musicais              4.642857             14\n",
       "37       fashion_roupa_infanto_juvenil              4.500000              8\n",
       "48              livros_interesse_geral              4.446266            549\n",
       "22  construcao_ferramentas_ferramentas              4.444444             99\n",
       "41                              flores              4.419355             31"
      ]
     },
     "execution_count": 191,
     "metadata": {},
     "output_type": "execute_result"
    }
   ],
   "source": [
    "category_rating_analysis = review_product_df.groupby('product_category_name').agg(\n",
    "    average_review_score=('review_score', 'mean'),   # Rata-rata skor ulasan\n",
    "    total_reviews=('review_score', 'count')           # Total jumlah ulasan\n",
    ").reset_index()\n",
    "\n",
    "# Mengurutkan berdasarkan rata-rata skor ulasan\n",
    "top_categories_by_rating = category_rating_analysis.sort_values(by='average_review_score', ascending=False)\n",
    "\n",
    "top_categories_by_rating.head()"
   ]
  },
  {
   "cell_type": "code",
   "execution_count": 192,
   "id": "f5955f44-b487-4a5b-ab19-75d9d42270c0",
   "metadata": {},
   "outputs": [
    {
     "data": {
      "text/html": [
       "<div>\n",
       "<style scoped>\n",
       "    .dataframe tbody tr th:only-of-type {\n",
       "        vertical-align: middle;\n",
       "    }\n",
       "\n",
       "    .dataframe tbody tr th {\n",
       "        vertical-align: top;\n",
       "    }\n",
       "\n",
       "    .dataframe thead th {\n",
       "        text-align: right;\n",
       "    }\n",
       "</style>\n",
       "<table border=\"1\" class=\"dataframe\">\n",
       "  <thead>\n",
       "    <tr style=\"text-align: right;\">\n",
       "      <th></th>\n",
       "      <th>product_category_name</th>\n",
       "      <th>product_category_name_english</th>\n",
       "      <th>average_review_score</th>\n",
       "      <th>total_reviews</th>\n",
       "    </tr>\n",
       "  </thead>\n",
       "  <tbody>\n",
       "    <tr>\n",
       "      <th>0</th>\n",
       "      <td>cds_dvds_musicais</td>\n",
       "      <td>cds_dvds_musicals</td>\n",
       "      <td>4.642857</td>\n",
       "      <td>14</td>\n",
       "    </tr>\n",
       "    <tr>\n",
       "      <th>1</th>\n",
       "      <td>fashion_roupa_infanto_juvenil</td>\n",
       "      <td>fashion_childrens_clothes</td>\n",
       "      <td>4.500000</td>\n",
       "      <td>8</td>\n",
       "    </tr>\n",
       "    <tr>\n",
       "      <th>2</th>\n",
       "      <td>livros_interesse_geral</td>\n",
       "      <td>books_general_interest</td>\n",
       "      <td>4.446266</td>\n",
       "      <td>549</td>\n",
       "    </tr>\n",
       "    <tr>\n",
       "      <th>3</th>\n",
       "      <td>construcao_ferramentas_ferramentas</td>\n",
       "      <td>costruction_tools_tools</td>\n",
       "      <td>4.444444</td>\n",
       "      <td>99</td>\n",
       "    </tr>\n",
       "    <tr>\n",
       "      <th>4</th>\n",
       "      <td>flores</td>\n",
       "      <td>flowers</td>\n",
       "      <td>4.419355</td>\n",
       "      <td>31</td>\n",
       "    </tr>\n",
       "  </tbody>\n",
       "</table>\n",
       "</div>"
      ],
      "text/plain": [
       "                product_category_name product_category_name_english  \\\n",
       "0                   cds_dvds_musicais             cds_dvds_musicals   \n",
       "1       fashion_roupa_infanto_juvenil     fashion_childrens_clothes   \n",
       "2              livros_interesse_geral        books_general_interest   \n",
       "3  construcao_ferramentas_ferramentas       costruction_tools_tools   \n",
       "4                              flores                       flowers   \n",
       "\n",
       "   average_review_score  total_reviews  \n",
       "0              4.642857             14  \n",
       "1              4.500000              8  \n",
       "2              4.446266            549  \n",
       "3              4.444444             99  \n",
       "4              4.419355             31  "
      ]
     },
     "execution_count": 192,
     "metadata": {},
     "output_type": "execute_result"
    }
   ],
   "source": [
    "top_5_categories_with_translation = top_categories_by_rating.merge(\n",
    "    products_category_df[['product_category_name', 'product_category_name_english']],\n",
    "    on='product_category_name',\n",
    "    how='left'\n",
    ")\n",
    "\n",
    "category_by_rating = top_5_categories_with_translation[['product_category_name', 'product_category_name_english', 'average_review_score', 'total_reviews']]\n",
    "category_by_rating.head()"
   ]
  },
  {
   "cell_type": "markdown",
   "id": "bb9acb5e-59f5-4007-a6d5-148aa9f15932",
   "metadata": {},
   "source": [
    "**Insight** hasil diatas menujukkan \n",
    "- 5 kategori dengan review terbaik yaitu cds_dvds_musicals, fashion_childrens_clothes, books_general_interest, costruction_tools_tools, flowers\n",
    "- 5 kategori dengan total pendapatan terbesar yaitu health_beauty, watches_gifts, bed_bath_table, sports_leisure, computers_accessories"
   ]
  },
  {
   "cell_type": "markdown",
   "id": "ae193f4e-e53f-423c-aeb3-6f1a59da1c22",
   "metadata": {},
   "source": [
    "Mengeksploarsi data order, customer, produk, review, dengan geolocation_df"
   ]
  },
  {
   "cell_type": "code",
   "execution_count": 193,
   "id": "80d7b997-4658-4d1e-87e3-158a13ce208e",
   "metadata": {
    "scrolled": true
   },
   "outputs": [
    {
     "data": {
      "text/html": [
       "<div>\n",
       "<style scoped>\n",
       "    .dataframe tbody tr th:only-of-type {\n",
       "        vertical-align: middle;\n",
       "    }\n",
       "\n",
       "    .dataframe tbody tr th {\n",
       "        vertical-align: top;\n",
       "    }\n",
       "\n",
       "    .dataframe thead th {\n",
       "        text-align: right;\n",
       "    }\n",
       "</style>\n",
       "<table border=\"1\" class=\"dataframe\">\n",
       "  <thead>\n",
       "    <tr style=\"text-align: right;\">\n",
       "      <th></th>\n",
       "      <th>geolocation_state</th>\n",
       "      <th>total_orders</th>\n",
       "      <th>total_revenue</th>\n",
       "      <th>average_review_score</th>\n",
       "      <th>unique_customers</th>\n",
       "      <th>unique_sellers</th>\n",
       "    </tr>\n",
       "  </thead>\n",
       "  <tbody>\n",
       "    <tr>\n",
       "      <th>25</th>\n",
       "      <td>SP</td>\n",
       "      <td>4471949</td>\n",
       "      <td>4.929507e+08</td>\n",
       "      <td>4.110618</td>\n",
       "      <td>41731</td>\n",
       "      <td>2549</td>\n",
       "    </tr>\n",
       "    <tr>\n",
       "      <th>10</th>\n",
       "      <td>MG</td>\n",
       "      <td>2560148</td>\n",
       "      <td>3.082426e+08</td>\n",
       "      <td>4.041665</td>\n",
       "      <td>11624</td>\n",
       "      <td>1664</td>\n",
       "    </tr>\n",
       "    <tr>\n",
       "      <th>18</th>\n",
       "      <td>RJ</td>\n",
       "      <td>1879605</td>\n",
       "      <td>2.369479e+08</td>\n",
       "      <td>3.825001</td>\n",
       "      <td>12839</td>\n",
       "      <td>1750</td>\n",
       "    </tr>\n",
       "    <tr>\n",
       "      <th>22</th>\n",
       "      <td>RS</td>\n",
       "      <td>697865</td>\n",
       "      <td>8.261335e+07</td>\n",
       "      <td>4.062415</td>\n",
       "      <td>5473</td>\n",
       "      <td>1231</td>\n",
       "    </tr>\n",
       "    <tr>\n",
       "      <th>17</th>\n",
       "      <td>PR</td>\n",
       "      <td>524840</td>\n",
       "      <td>6.177882e+07</td>\n",
       "      <td>4.102649</td>\n",
       "      <td>5034</td>\n",
       "      <td>1230</td>\n",
       "    </tr>\n",
       "  </tbody>\n",
       "</table>\n",
       "</div>"
      ],
      "text/plain": [
       "   geolocation_state  total_orders  total_revenue  average_review_score  \\\n",
       "25                SP       4471949   4.929507e+08              4.110618   \n",
       "10                MG       2560148   3.082426e+08              4.041665   \n",
       "18                RJ       1879605   2.369479e+08              3.825001   \n",
       "22                RS        697865   8.261335e+07              4.062415   \n",
       "17                PR        524840   6.177882e+07              4.102649   \n",
       "\n",
       "    unique_customers  unique_sellers  \n",
       "25             41731            2549  \n",
       "10             11624            1664  \n",
       "18             12839            1750  \n",
       "22              5473            1231  \n",
       "17              5034            1230  "
      ]
     },
     "execution_count": 193,
     "metadata": {},
     "output_type": "execute_result"
    }
   ],
   "source": [
    "orders_with_customers = pd.merge(orders_df, customers_df, on='customer_id', how='left')\n",
    "orders_with_items = pd.merge(orders_with_customers, order_items_df, on='order_id', how='left')\n",
    "orders_with_products = pd.merge(orders_with_items, products_df[['product_id', 'product_category_name']], on='product_id', how='left')\n",
    "orders_with_reviews = pd.merge(orders_with_products, order_reviews_df[['order_id', 'review_score']], on='order_id', how='left')\n",
    "orders_with_sellers = pd.merge(orders_with_reviews, sellers_df[['seller_id', 'seller_city', 'seller_state']], on='seller_id', how='left')\n",
    "\n",
    "geo_oeders_df = pd.merge(orders_with_sellers, geolocation_df[['geolocation_zip_code_prefix', 'geolocation_state']], \n",
    "                    left_on='customer_zip_code_prefix', right_on='geolocation_zip_code_prefix', how='left')\n",
    "\n",
    "state_analysis = geo_oeders_df.groupby('geolocation_state').agg(\n",
    "    total_orders=('order_id', 'count'),                          \n",
    "    total_revenue=('price', 'sum'),                            \n",
    "    average_review_score=('review_score', 'mean'),             \n",
    "    unique_customers=('customer_id', 'nunique'),                \n",
    "    unique_sellers=('seller_id', 'nunique')                     \n",
    ").reset_index()\n",
    "\n",
    "state_analysis = state_analysis.sort_values(by='total_revenue', ascending=False)\n",
    "\n",
    "state_analysis.head()\n"
   ]
  },
  {
   "cell_type": "markdown",
   "id": "468f74c0-ba1e-4e7b-bbec-c5d3c45e643e",
   "metadata": {
    "scrolled": true
   },
   "source": [
    "**Insight** Hasil kode menunjukkan negara bagian dengan total revenue tertinggi yaitu SP, MG, RJ, RS, PR"
   ]
  },
  {
   "cell_type": "markdown",
   "id": "89c05d5d-898b-41cd-8630-c0f593868a1c",
   "metadata": {},
   "source": [
    "# Visualization and Exploratoty Data"
   ]
  },
  {
   "cell_type": "markdown",
   "id": "189e9d2a-4127-4962-b8fc-6751cf3b9d63",
   "metadata": {},
   "source": [
    "## Performa Penjualan selama 6 bulan terakhir"
   ]
  },
  {
   "cell_type": "code",
   "execution_count": 194,
   "id": "6694e990-425a-4125-8e12-6fd09a366f07",
   "metadata": {
    "scrolled": true
   },
   "outputs": [
    {
     "name": "stdout",
     "output_type": "stream",
     "text": [
      "Kolom 'order_purchase_timestamp' ditemukan.\n",
      "Max order_purchase_timestamp: 2018-09-03 09:06:57\n",
      "Jumlah data dalam 6 bulan terakhir: 46640\n",
      "\n",
      "DataFrame monthly_orders_df setelah agregasi:\n",
      "  order_purchase_timestamp  order_count     revenue\n",
      "0               2018-03-31         6628   952433.66\n",
      "1               2018-04-30         6934  1031717.62\n",
      "2               2018-05-31         6853  1032699.42\n",
      "3               2018-06-30         6160   910053.03\n",
      "4               2018-07-31         6273   927401.38\n",
      "\n",
      "DataFrame monthly_orders_df setelah format tanggal:\n",
      "  order_purchase_timestamp  order_count     revenue\n",
      "0               March-2018         6628   952433.66\n",
      "1               April-2018         6934  1031717.62\n",
      "2                 May-2018         6853  1032699.42\n",
      "3                June-2018         6160   910053.03\n",
      "4                July-2018         6273   927401.38\n",
      "5              August-2018         6452   884731.52\n"
     ]
    }
   ],
   "source": [
    "final_orders_df['order_purchase_timestamp'] = pd.to_datetime(final_orders_df['order_purchase_timestamp'])\n",
    "\n",
    "if 'order_purchase_timestamp' not in final_orders_df.columns:\n",
    "    print(\"Kolom 'order_purchase_timestamp' tidak ditemukan di DataFrame.\")\n",
    "else:\n",
    "    print(\"Kolom 'order_purchase_timestamp' ditemukan.\")\n",
    "\n",
    "max_date = final_orders_df['order_purchase_timestamp'].max()\n",
    "print(f\"Max order_purchase_timestamp: {max_date}\")\n",
    "\n",
    "last_six_months = final_orders_df[\n",
    "    final_orders_df['order_purchase_timestamp'] >= (max_date - pd.DateOffset(months=6))\n",
    "]\n",
    "\n",
    "print(f\"Jumlah data dalam 6 bulan terakhir: {last_six_months.shape[0]}\")\n",
    "\n",
    "monthly_orders_df = last_six_months.resample(rule='ME', on='order_purchase_timestamp').agg(\n",
    "    order_count=('order_id', 'nunique'),  # Hitung jumlah pesanan unik\n",
    "    revenue=('price', 'sum')              # Hitung total harga\n",
    ").reset_index()\n",
    "\n",
    "print(\"\\nDataFrame monthly_orders_df setelah agregasi:\")\n",
    "print(monthly_orders_df.head())\n",
    "\n",
    "monthly_orders_df['order_purchase_timestamp'] = monthly_orders_df['order_purchase_timestamp'].dt.strftime('%B-%Y')\n",
    "\n",
    "print(\"\\nDataFrame monthly_orders_df setelah format tanggal:\")\n",
    "print(monthly_orders_df.head(6))"
   ]
  },
  {
   "cell_type": "code",
   "execution_count": 195,
   "id": "64e66759-a2d9-4674-84b2-bf54bb08afbc",
   "metadata": {
    "scrolled": true
   },
   "outputs": [
    {
     "data": {
      "image/png": "[encoded data removed]",
      "text/plain": [
       "<Figure size 1000x600 with 1 Axes>"
      ]
     },
     "metadata": {},
     "output_type": "display_data"
    }
   ],
   "source": [
    "plt.figure(figsize=(10, 6))\n",
    "plt.plot(monthly_orders_df['order_purchase_timestamp'], monthly_orders_df['revenue'], marker='o')\n",
    "plt.title('Total Penjualan per Bulan dalam 6 Bulan Terakhir')\n",
    "plt.xlabel('Bulan')\n",
    "plt.ylabel('Pendapatan')\n",
    "plt.xticks(rotation=45)\n",
    "plt.grid()\n",
    "plt.show()\n"
   ]
  },
  {
   "cell_type": "markdown",
   "id": "4dd39607-b14e-4a49-b06c-2bd2d02dd98f",
   "metadata": {},
   "source": [
    "## Pola Pembelian pelanggan selama satu bulan terakhir"
   ]
  },
  {
   "cell_type": "code",
   "execution_count": 196,
   "id": "98cf895e-55eb-4b8c-af8a-36ddf84031d5",
   "metadata": {
    "scrolled": true
   },
   "outputs": [
    {
     "name": "stdout",
     "output_type": "stream",
     "text": [
      "           recency    frequency     monetary\n",
      "count  5796.000000  5796.000000  5796.000000\n",
      "mean     20.017253     1.156315   137.394822\n",
      "std       6.534653     0.580140   228.520155\n",
      "min       0.000000     1.000000     3.000000\n",
      "25%      15.000000     1.000000    45.965000\n",
      "50%      20.000000     1.000000    81.900000\n",
      "75%      26.000000     1.000000   146.000000\n",
      "max      30.000000    15.000000  4598.000000\n"
     ]
    }
   ],
   "source": [
    "one_month_ago = final_orders_df['order_purchase_timestamp'].max() - pd.DateOffset(months=1)\n",
    "last_month_orders = final_orders_df[final_orders_df['order_purchase_timestamp'] >= one_month_ago]\n",
    "\n",
    "rfm_last_month_df = last_month_orders.groupby('customer_id').agg({\n",
    "    'order_purchase_timestamp': lambda x: (last_month_orders['order_purchase_timestamp'].max() - x.max()).days,  # Recency\n",
    "    'order_id': 'count',  # Frequency\n",
    "    'price': 'sum'  # Monetary\n",
    "}).reset_index()\n",
    "\n",
    "rfm_last_month_df.columns = ['customer_id', 'recency', 'frequency', 'monetary']\n",
    "\n",
    "print(rfm_last_month_df.describe())\n"
   ]
  },
  {
   "cell_type": "code",
   "execution_count": 197,
   "id": "1fcdd48a-2e99-448a-b5cf-d4c0822047d8",
   "metadata": {
    "scrolled": true
   },
   "outputs": [
    {
     "data": {
      "image/png": "[encoded data removed]",
      "text/plain": [
       "<Figure size 1200x600 with 3 Axes>"
      ]
     },
     "metadata": {},
     "output_type": "display_data"
    }
   ],
   "source": [
    "# Visualisasi pola pembelian\n",
    "plt.figure(figsize=(12, 6))\n",
    "\n",
    "# Subplot untuk Recency\n",
    "plt.subplot(1, 3, 1)\n",
    "sns.histplot(rfm_last_month_df['recency'], bins=30, kde=True, color='skyblue')\n",
    "plt.title('Distribusi Recency')\n",
    "plt.xlabel('Hari Sejak Pembelian Terakhir')\n",
    "plt.ylabel('Jumlah Pelanggan')\n",
    "\n",
    "# Subplot untuk Frequency\n",
    "plt.subplot(1, 3, 2)\n",
    "sns.histplot(rfm_last_month_df['frequency'], bins=30, kde=True, color='lightgreen')\n",
    "plt.title('Distribusi Frequency')\n",
    "plt.xlabel('Jumlah Pembelian')\n",
    "plt.ylabel('Jumlah Pelanggan')\n",
    "\n",
    "# Subplot untuk Monetary\n",
    "plt.subplot(1, 3, 3)\n",
    "sns.histplot(rfm_last_month_df['monetary'], bins=30, kde=True, color='salmon')\n",
    "plt.title('Distribusi Monetary')\n",
    "plt.xlabel('Total Pengeluaran')\n",
    "plt.ylabel('Jumlah Pelanggan')\n",
    "\n",
    "plt.tight_layout()\n",
    "plt.show()"
   ]
  },
  {
   "cell_type": "markdown",
   "id": "eac2679c-cb4a-41a4-a2b1-5b9b87b927eb",
   "metadata": {},
   "source": [
    "## Rata-rata Review Score berdasarkan Kategori Produk"
   ]
  },
  {
   "cell_type": "code",
   "execution_count": 198,
   "id": "038d6d3d-f05f-4f8a-be4b-026609542985",
   "metadata": {
    "scrolled": true
   },
   "outputs": [
    {
     "name": "stdout",
     "output_type": "stream",
     "text": [
      "Tabel 10 Kategori Produk Teratas Berdasarkan Rata-rata Skor Ulasan:\n",
      "            product_category_name_english  average_review_score  total_reviews\n",
      "11                      cds_dvds_musicals              4.642857             14\n",
      "29              fashion_childrens_clothes              4.500000              8\n",
      "8                  books_general_interest              4.446266            549\n",
      "22                costruction_tools_tools              4.444444             99\n",
      "35                                flowers              4.419355             31\n",
      "9                          books_imported              4.400000             60\n",
      "10                        books_technical              4.368421            266\n",
      "37                             food_drink              4.315412            279\n",
      "53                    luggage_accessories              4.315257           1088\n",
      "64  small_appliances_home_oven_and_coffee              4.302632             76\n"
     ]
    }
   ],
   "source": [
    "category_analysis = review_product_df.groupby('product_category_name_english').agg(\n",
    "    average_review_score=('review_score', 'mean'),\n",
    "    total_reviews=('review_score', 'count')\n",
    ").reset_index()\n",
    "\n",
    "# Mengurutkan berdasarkan rata-rata skor ulasan dan mengambil 10 kategori teratas\n",
    "top_categories = category_analysis.sort_values(by='average_review_score', ascending=False).head(10)\n",
    "print(\"Tabel 10 Kategori Produk Teratas Berdasarkan Rata-rata Skor Ulasan:\")\n",
    "print(top_categories)"
   ]
  },
  {
   "cell_type": "code",
   "execution_count": 199,
   "id": "2de474f7-32f3-4c08-920f-4793c5b19e56",
   "metadata": {
    "scrolled": true
   },
   "outputs": [
    {
     "data": {
      "image/png": "[encoded data removed]",
      "text/plain": [
       "<Figure size 1200x600 with 1 Axes>"
      ]
     },
     "metadata": {},
     "output_type": "display_data"
    }
   ],
   "source": [
    "# Plotting\n",
    "plt.figure(figsize=(12, 6))  # Sesuaikan ukuran figure\n",
    "sns.barplot(\n",
    "    x='average_review_score', \n",
    "    y='product_category_name_english', \n",
    "    data=top_categories,  \n",
    "    color='skyblue'  # Menggunakan satu warna untuk semua bar\n",
    ")\n",
    "\n",
    "plt.xlabel('Rata-rata Skor Ulasan')\n",
    "plt.ylabel('Kategori Produk')\n",
    "plt.title('10 Kategori Produk Teratas Berdasarkan Rata-rata Skor Ulasan')\n",
    "plt.grid(axis='x', linestyle='--', alpha=0.7)\n",
    "\n",
    "plt.show()"
   ]
  },
  {
   "cell_type": "markdown",
   "id": "cf8d5085-d5f0-4b4e-8cd7-b75b34ef5f78",
   "metadata": {},
   "source": [
    "**Insight** \n",
    "- Performa penjualan cukup stabil pada 5 bulan namun mengalami penurunan drastis pada bulan satu bulan terakhir (agustus-september) dan ditunjukkan pemebelian terakhir terjadi pada tanggal 3 september 2018, jumlah penjualan selama 6 bulan sebesar 46640 \n",
    "- Pola pembelian selama satu bula terakhir, terjadi pola aktivitas terbaru dari pelanggan cenderung fluktuatif dan mengalami puncak pada hari ke 20 - 30, sedangkan frekuensi pembelian dan total pengeluaran terus mengalami penurunan. Pada frekuensi pembelian, sebagian besar pelanggan ganya melakuka 1-2 pembelian, hal ini menjukkan pelanggan kurang aktif dalam melakukan pembelian berulang. Pada total penjualan menujukkan sebagian besar pelanggan melakukan pengeluaran dalam nilai transaksi yang kecil\n",
    "- 10 Review tertinggi berdasarkan kategori yaitu cds_dvds_musicals, fashion_childrens_clothes, books_general_interest, costruction_tools_tools, flowers, books_imported, books_technical, food_drink, luggage_accessories, small_appliances_home_oven_and_coffee. kategori dengan review terbaik yaitu cds_dvds_musicals dengan skor 4,64"
   ]
  },
  {
   "cell_type": "markdown",
   "id": "1bda86ef-7d4a-4692-b11b-deb0b63993be",
   "metadata": {},
   "source": [
    "# Analisis Lanjutan"
   ]
  },
  {
   "cell_type": "code",
   "execution_count": 200,
   "id": "a8dbf600-9e12-4057-ae6f-6bb386bc13e9",
   "metadata": {
    "scrolled": true
   },
   "outputs": [
    {
     "name": "stdout",
     "output_type": "stream",
     "text": [
      "\n",
      "Top 5 Pelanggan dengan Best Performance:\n",
      "                           customer_id  recency  frequency  monetary\n",
      "5606  f767e7437c3aa2c044523c0a6712380b        8          1   2300.00\n",
      "5206  e683dddabd8f5c3ad3708a3364e932f8       14          1   2300.00\n",
      "1024  2e9ae3e10bcfcc16fe0eedc2ac5f9f6a       10          1   2160.00\n",
      "4557  ca90771e164c2fb0236f757caa80e13a       14          1   1499.99\n",
      "3103  8d4fbbdcabdfc2f9b1f52cd523ea5865       13          2   1300.00\n",
      "14    00c634fb2feeb4e2767a916c2375c9b8       13          1   1299.65\n",
      "3238  939b209dd2a56cc6fed22e0a40b805fe       14          1   1299.65\n",
      "1862  544718803ece964e5c1d0b3b3cd751fc        8          1   1240.00\n",
      "5465  f0d62fcceaafaea74a143d7fce54f1f4       11          1   1240.00\n",
      "2584  750f14ea5e0f226e42bd9d77d4af541d       13          1   1230.00\n"
     ]
    }
   ],
   "source": [
    "# Pelanggan terbaik ditentukan berdasarkan tiga kriteria\n",
    "best_customers = rfm_last_month_df[\n",
    "    (rfm_last_month_df['recency'] <= rfm_last_month_df['recency'].quantile(0.25)) &  # Recency rendah (kuartil terendah)\n",
    "    (rfm_last_month_df['frequency'] >= rfm_last_month_df['frequency'].quantile(0.75)) &  # Frequency tinggi (kuartil tertinggi)\n",
    "    (rfm_last_month_df['monetary'] >= rfm_last_month_df['monetary'].quantile(0.75))  # Monetary tinggi (kuartil tertinggi)\n",
    "]\n",
    "\n",
    "best_customers_top5 = best_customers.sort_values(by=['monetary', 'frequency', 'recency'], ascending=[False, False, True]).head(5)\n",
    "print(\"\\nTop 5 Pelanggan dengan Best Performance:\")\n",
    "print(best_customers_top10)\n"
   ]
  },
  {
   "cell_type": "code",
   "execution_count": 201,
   "id": "76bf564d-7fef-4c25-a873-c766511f1b1d",
   "metadata": {},
   "outputs": [
    {
     "data": {
      "image/png": "[encoded data removed]",
      "text/plain": [
       "<Figure size 1800x500 with 3 Axes>"
      ]
     },
     "metadata": {},
     "output_type": "display_data"
    }
   ],
   "source": [
    "best_customers_top5 = best_customers.sort_values(by=['monetary', 'frequency', 'recency'], ascending=[False, False, True]).head(5)\n",
    "\n",
    "# Tentukan warna dasar\n",
    "base_color = '#007acc'  # Warna biru sebagai warna dasar\n",
    "\n",
    "plt.figure(figsize=(18, 5))\n",
    "\n",
    "# Fungsi untuk mendapatkan warna dengan kecerahan yang berbeda\n",
    "def get_colors(data, base_color):\n",
    "    # Mendapatkan warna lebih terang dan lebih gelap\n",
    "    max_value = data.max()\n",
    "    return [base_color if value < max_value else '#005fa3' for value in data]  # Ternyata bar tertinggi lebih gelap\n",
    "\n",
    "# Subplot untuk Recency\n",
    "plt.subplot(1, 3, 1)\n",
    "recency_colors = get_colors(best_customers_top5['recency'], base_color)\n",
    "for i in range(len(best_customers_top5)):\n",
    "    plt.bar(best_customers_top5['customer_id'].iloc[i], best_customers_top5['recency'].iloc[i], \n",
    "            color=recency_colors[i])\n",
    "plt.title('Top 5 Pelanggan - Recency')\n",
    "plt.xlabel('Customer ID')\n",
    "plt.ylabel('Recency (Hari sejak Pembelian Terakhir)')\n",
    "plt.xticks(rotation=45)\n",
    "\n",
    "# Subplot untuk Frequency\n",
    "plt.subplot(1, 3, 2)\n",
    "frequency_colors = get_colors(best_customers_top5['frequency'], base_color)\n",
    "for i in range(len(best_customers_top5)):\n",
    "    plt.bar(best_customers_top5['customer_id'].iloc[i], best_customers_top5['frequency'].iloc[i], \n",
    "            color=frequency_colors[i])\n",
    "plt.title('Top 5 Pelanggan - Frequency')\n",
    "plt.xlabel('Customer ID')\n",
    "plt.ylabel('Frequency (Jumlah Pembelian)')\n",
    "plt.xticks(rotation=45)\n",
    "\n",
    "# Subplot untuk Monetary\n",
    "plt.subplot(1, 3, 3)\n",
    "monetary_colors = get_colors(best_customers_top5['monetary'], base_color)\n",
    "for i in range(len(best_customers_top5)):\n",
    "    plt.bar(best_customers_top5['customer_id'].iloc[i], best_customers_top5['monetary'].iloc[i], \n",
    "            color=monetary_colors[i])\n",
    "plt.title('Top 5 Pelanggan - Monetary')\n",
    "plt.xlabel('Customer ID')\n",
    "plt.ylabel('Monetary (Total Pengeluaran)')\n",
    "plt.xticks(rotation=45)\n",
    "\n",
    "plt.tight_layout()\n",
    "plt.show()\n"
   ]
  },
  {
   "cell_type": "markdown",
   "id": "30457566-8e1d-4276-87c2-27438a08d86c",
   "metadata": {},
   "source": [
    "Conclusion:\n",
    "- soal 1: Performa penjualan selama 6 bulan terakhir (may 2018-september 2018) menunjukan penjualan stabil di 5 bulan pertama dan penuruhan pada bulan terakhir sehingga perlu untuk mencari tahu lebih lanjut penyebabnya\n",
    "- soal 2: Pola pembelian selama satu bulan terakhir menunjukkan hasil yang baik pada aktivitas pelanggan terbaru, namun perlu perhatian lebih pada jumlah pembelian dan total pengeeluaran yang menjukkan hasil cukup rendah. Terdapat peluang besar untuk meningkatkan loyalitas pelanggan yaitu dengan adanya diskon berkala dan penawaran eksklusif untuk pelanggan loyal\n",
    "- soal 3: 10 kategori dengan review tertinggi harus tetap dipertahankan dengan terus meningkatkan kualitas dan pelayanannya, untuk kategori denga rating yang masih rendah perlu untuk dditerapkan strategi dengan memberikan penawaran yang lebih baik dan memperbaiki kualitas maupun pelayanannya."
   ]
  }
 ],
 "metadata": {
  "kernelspec": {
   "display_name": "Python 3 (ipykernel)",
   "language": "python",
   "name": "python3"
  },
  "language_info": {
   "codemirror_mode": {
    "name": "ipython",
    "version": 3
   },
   "file_extension": ".py",
   "mimetype": "text/x-python",
   "name": "python",
   "nbconvert_exporter": "python",
   "pygments_lexer": "ipython3",
   "version": "3.11.9"
  }
 },
 "nbformat": 4,
 "nbformat_minor": 5
}
